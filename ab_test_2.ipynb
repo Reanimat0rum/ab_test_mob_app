{
 "cells": [
  {
   "cell_type": "markdown",
   "id": "a158d2c6",
   "metadata": {},
   "source": [
    "## Проект: Принятие решений в бизнесе"
   ]
  },
  {
   "cell_type": "markdown",
   "id": "83cd2aeb",
   "metadata": {},
   "source": [
    "В рамках данного проекта мы исследуем ряд гипотез для увеличения выручки"
   ]
  },
  {
   "cell_type": "markdown",
   "id": "e0471697",
   "metadata": {},
   "source": [
    "Файл /datasets/hypothesis.csv. \n",
    "* Hypothesis — краткое описание гипотезы;\n",
    "* Reach — охват пользователей по 10-балльной шкале;\n",
    "* Impact — влияние на пользователей по 10-балльной шкале;\n",
    "* Confidence — уверенность в гипотезе по 10-балльной шкале;\n",
    "* Efforts — затраты ресурсов на проверку гипотезы по 10-балльной шкале. Чем больше значение Efforts, тем дороже проверка гипотезы.\n",
    "\n",
    "Файл /datasets/orders.csv. \n",
    "* transactionId — идентификатор заказа;\n",
    "* visitorId — идентификатор пользователя, совершившего заказ;\n",
    "* date — дата, когда был совершён заказ;\n",
    "* revenue — выручка заказа;\n",
    "* group — группа A/B-теста, в которую попал заказ.\n",
    "\n",
    "Файл /datasets/visitors.csv. \n",
    "* date — дата;\n",
    "* group — группа A/B-теста;\n",
    "* visitors — количество пользователей в указанную дату в указанной группе A/B-теста"
   ]
  },
  {
   "cell_type": "markdown",
   "id": "d39fe212",
   "metadata": {},
   "source": [
    "Импортируем библиотеки которые могут нам понадобиться:\n",
    "* Pandas\n",
    "* Seaborn\n",
    "* NumPy\n",
    "* Matplotlib\n",
    "* SciPy"
   ]
  },
  {
   "cell_type": "code",
   "execution_count": 1,
   "id": "315cb3ec",
   "metadata": {},
   "outputs": [],
   "source": [
    "import pandas as pd\n",
    "import seaborn as sns\n",
    "import numpy as np\n",
    "import matplotlib.pyplot as plt\n",
    "import scipy.stats as st"
   ]
  },
  {
   "cell_type": "code",
   "execution_count": 2,
   "id": "d9cea250",
   "metadata": {},
   "outputs": [],
   "source": [
    "pd.options.display.max_colwidth = 120"
   ]
  },
  {
   "cell_type": "markdown",
   "id": "43bdb7f8",
   "metadata": {},
   "source": [
    "# Часть 1"
   ]
  },
  {
   "cell_type": "markdown",
   "id": "1f92f480",
   "metadata": {},
   "source": [
    "## Займемся приоритезацией гипотез"
   ]
  },
  {
   "cell_type": "markdown",
   "id": "6580275a",
   "metadata": {},
   "source": [
    "Загружаем датасет с параметрами гипотез"
   ]
  },
  {
   "cell_type": "code",
   "execution_count": 3,
   "id": "4849cad2",
   "metadata": {},
   "outputs": [],
   "source": [
    "hypothesis = pd.read_csv('/datasets/hypothesis.csv')"
   ]
  },
  {
   "cell_type": "code",
   "execution_count": 4,
   "id": "4f06b196",
   "metadata": {},
   "outputs": [],
   "source": [
    "hypothesis.columns = hypothesis.columns.str.lower()"
   ]
  },
  {
   "cell_type": "code",
   "execution_count": 5,
   "id": "04b942fb",
   "metadata": {
    "scrolled": true
   },
   "outputs": [
    {
     "data": {
      "text/html": [
       "<div>\n",
       "<style scoped>\n",
       "    .dataframe tbody tr th:only-of-type {\n",
       "        vertical-align: middle;\n",
       "    }\n",
       "\n",
       "    .dataframe tbody tr th {\n",
       "        vertical-align: top;\n",
       "    }\n",
       "\n",
       "    .dataframe thead th {\n",
       "        text-align: right;\n",
       "    }\n",
       "</style>\n",
       "<table border=\"1\" class=\"dataframe\">\n",
       "  <thead>\n",
       "    <tr style=\"text-align: right;\">\n",
       "      <th></th>\n",
       "      <th>hypothesis</th>\n",
       "      <th>reach</th>\n",
       "      <th>impact</th>\n",
       "      <th>confidence</th>\n",
       "      <th>efforts</th>\n",
       "    </tr>\n",
       "  </thead>\n",
       "  <tbody>\n",
       "    <tr>\n",
       "      <th>0</th>\n",
       "      <td>Добавить два новых канала привлечения трафика, что позволит привлекать на 30% больше пользователей</td>\n",
       "      <td>3</td>\n",
       "      <td>10</td>\n",
       "      <td>8</td>\n",
       "      <td>6</td>\n",
       "    </tr>\n",
       "    <tr>\n",
       "      <th>1</th>\n",
       "      <td>Запустить собственную службу доставки, что сократит срок доставки заказов</td>\n",
       "      <td>2</td>\n",
       "      <td>5</td>\n",
       "      <td>4</td>\n",
       "      <td>10</td>\n",
       "    </tr>\n",
       "    <tr>\n",
       "      <th>2</th>\n",
       "      <td>Добавить блоки рекомендаций товаров на сайт интернет магазина, чтобы повысить конверсию и средний чек заказа</td>\n",
       "      <td>8</td>\n",
       "      <td>3</td>\n",
       "      <td>7</td>\n",
       "      <td>3</td>\n",
       "    </tr>\n",
       "    <tr>\n",
       "      <th>3</th>\n",
       "      <td>Изменить структура категорий, что увеличит конверсию, т.к. пользователи быстрее найдут нужный товар</td>\n",
       "      <td>8</td>\n",
       "      <td>3</td>\n",
       "      <td>3</td>\n",
       "      <td>8</td>\n",
       "    </tr>\n",
       "    <tr>\n",
       "      <th>4</th>\n",
       "      <td>Изменить цвет фона главной страницы, чтобы увеличить вовлеченность пользователей</td>\n",
       "      <td>3</td>\n",
       "      <td>1</td>\n",
       "      <td>1</td>\n",
       "      <td>1</td>\n",
       "    </tr>\n",
       "    <tr>\n",
       "      <th>5</th>\n",
       "      <td>Добавить страницу отзывов клиентов о магазине, что позволит увеличить количество заказов</td>\n",
       "      <td>3</td>\n",
       "      <td>2</td>\n",
       "      <td>2</td>\n",
       "      <td>3</td>\n",
       "    </tr>\n",
       "    <tr>\n",
       "      <th>6</th>\n",
       "      <td>Показать на главной странице баннеры с актуальными акциями и распродажами, чтобы увеличить конверсию</td>\n",
       "      <td>5</td>\n",
       "      <td>3</td>\n",
       "      <td>8</td>\n",
       "      <td>3</td>\n",
       "    </tr>\n",
       "    <tr>\n",
       "      <th>7</th>\n",
       "      <td>Добавить форму подписки на все основные страницы, чтобы собрать базу клиентов для email-рассылок</td>\n",
       "      <td>10</td>\n",
       "      <td>7</td>\n",
       "      <td>8</td>\n",
       "      <td>5</td>\n",
       "    </tr>\n",
       "    <tr>\n",
       "      <th>8</th>\n",
       "      <td>Запустить акцию, дающую скидку на товар в день рождения</td>\n",
       "      <td>1</td>\n",
       "      <td>9</td>\n",
       "      <td>9</td>\n",
       "      <td>5</td>\n",
       "    </tr>\n",
       "  </tbody>\n",
       "</table>\n",
       "</div>"
      ],
      "text/plain": [
       "                                                                                                     hypothesis  \\\n",
       "0            Добавить два новых канала привлечения трафика, что позволит привлекать на 30% больше пользователей   \n",
       "1                                     Запустить собственную службу доставки, что сократит срок доставки заказов   \n",
       "2  Добавить блоки рекомендаций товаров на сайт интернет магазина, чтобы повысить конверсию и средний чек заказа   \n",
       "3           Изменить структура категорий, что увеличит конверсию, т.к. пользователи быстрее найдут нужный товар   \n",
       "4                              Изменить цвет фона главной страницы, чтобы увеличить вовлеченность пользователей   \n",
       "5                      Добавить страницу отзывов клиентов о магазине, что позволит увеличить количество заказов   \n",
       "6          Показать на главной странице баннеры с актуальными акциями и распродажами, чтобы увеличить конверсию   \n",
       "7              Добавить форму подписки на все основные страницы, чтобы собрать базу клиентов для email-рассылок   \n",
       "8                                                       Запустить акцию, дающую скидку на товар в день рождения   \n",
       "\n",
       "   reach  impact  confidence  efforts  \n",
       "0      3      10           8        6  \n",
       "1      2       5           4       10  \n",
       "2      8       3           7        3  \n",
       "3      8       3           3        8  \n",
       "4      3       1           1        1  \n",
       "5      3       2           2        3  \n",
       "6      5       3           8        3  \n",
       "7     10       7           8        5  \n",
       "8      1       9           9        5  "
      ]
     },
     "execution_count": 5,
     "metadata": {},
     "output_type": "execute_result"
    }
   ],
   "source": [
    "hypothesis"
   ]
  },
  {
   "cell_type": "markdown",
   "id": "456a29db",
   "metadata": {},
   "source": [
    "Расчитываем ICE для каждой гипотезы"
   ]
  },
  {
   "cell_type": "code",
   "execution_count": 6,
   "id": "7cc237c2",
   "metadata": {},
   "outputs": [],
   "source": [
    "hypothesis['ICE'] = round((hypothesis.impact * hypothesis.confidence) / hypothesis.efforts,1)"
   ]
  },
  {
   "cell_type": "markdown",
   "id": "f4cc647b",
   "metadata": {},
   "source": [
    "Теперь расчитаем RICE для каждой гипотезы"
   ]
  },
  {
   "cell_type": "code",
   "execution_count": 7,
   "id": "39f7eae3",
   "metadata": {},
   "outputs": [],
   "source": [
    "hypothesis['RICE'] = round((hypothesis.reach * hypothesis.confidence * hypothesis.impact)/ hypothesis.efforts,1)"
   ]
  },
  {
   "cell_type": "code",
   "execution_count": 8,
   "id": "4d66a022",
   "metadata": {},
   "outputs": [
    {
     "data": {
      "text/html": [
       "<div>\n",
       "<style scoped>\n",
       "    .dataframe tbody tr th:only-of-type {\n",
       "        vertical-align: middle;\n",
       "    }\n",
       "\n",
       "    .dataframe tbody tr th {\n",
       "        vertical-align: top;\n",
       "    }\n",
       "\n",
       "    .dataframe thead th {\n",
       "        text-align: right;\n",
       "    }\n",
       "</style>\n",
       "<table border=\"1\" class=\"dataframe\">\n",
       "  <thead>\n",
       "    <tr style=\"text-align: right;\">\n",
       "      <th></th>\n",
       "      <th>hypothesis</th>\n",
       "      <th>reach</th>\n",
       "      <th>impact</th>\n",
       "      <th>confidence</th>\n",
       "      <th>efforts</th>\n",
       "      <th>ICE</th>\n",
       "      <th>RICE</th>\n",
       "    </tr>\n",
       "  </thead>\n",
       "  <tbody>\n",
       "    <tr>\n",
       "      <th>0</th>\n",
       "      <td>Запустить акцию, дающую скидку на товар в день рождения</td>\n",
       "      <td>1</td>\n",
       "      <td>9</td>\n",
       "      <td>9</td>\n",
       "      <td>5</td>\n",
       "      <td>16.2</td>\n",
       "      <td>16.2</td>\n",
       "    </tr>\n",
       "    <tr>\n",
       "      <th>1</th>\n",
       "      <td>Добавить два новых канала привлечения трафика, что позволит привлекать на 30% больше пользователей</td>\n",
       "      <td>3</td>\n",
       "      <td>10</td>\n",
       "      <td>8</td>\n",
       "      <td>6</td>\n",
       "      <td>13.3</td>\n",
       "      <td>40.0</td>\n",
       "    </tr>\n",
       "    <tr>\n",
       "      <th>2</th>\n",
       "      <td>Добавить форму подписки на все основные страницы, чтобы собрать базу клиентов для email-рассылок</td>\n",
       "      <td>10</td>\n",
       "      <td>7</td>\n",
       "      <td>8</td>\n",
       "      <td>5</td>\n",
       "      <td>11.2</td>\n",
       "      <td>112.0</td>\n",
       "    </tr>\n",
       "    <tr>\n",
       "      <th>3</th>\n",
       "      <td>Показать на главной странице баннеры с актуальными акциями и распродажами, чтобы увеличить конверсию</td>\n",
       "      <td>5</td>\n",
       "      <td>3</td>\n",
       "      <td>8</td>\n",
       "      <td>3</td>\n",
       "      <td>8.0</td>\n",
       "      <td>40.0</td>\n",
       "    </tr>\n",
       "    <tr>\n",
       "      <th>4</th>\n",
       "      <td>Добавить блоки рекомендаций товаров на сайт интернет магазина, чтобы повысить конверсию и средний чек заказа</td>\n",
       "      <td>8</td>\n",
       "      <td>3</td>\n",
       "      <td>7</td>\n",
       "      <td>3</td>\n",
       "      <td>7.0</td>\n",
       "      <td>56.0</td>\n",
       "    </tr>\n",
       "    <tr>\n",
       "      <th>5</th>\n",
       "      <td>Запустить собственную службу доставки, что сократит срок доставки заказов</td>\n",
       "      <td>2</td>\n",
       "      <td>5</td>\n",
       "      <td>4</td>\n",
       "      <td>10</td>\n",
       "      <td>2.0</td>\n",
       "      <td>4.0</td>\n",
       "    </tr>\n",
       "    <tr>\n",
       "      <th>6</th>\n",
       "      <td>Добавить страницу отзывов клиентов о магазине, что позволит увеличить количество заказов</td>\n",
       "      <td>3</td>\n",
       "      <td>2</td>\n",
       "      <td>2</td>\n",
       "      <td>3</td>\n",
       "      <td>1.3</td>\n",
       "      <td>4.0</td>\n",
       "    </tr>\n",
       "    <tr>\n",
       "      <th>7</th>\n",
       "      <td>Изменить структура категорий, что увеличит конверсию, т.к. пользователи быстрее найдут нужный товар</td>\n",
       "      <td>8</td>\n",
       "      <td>3</td>\n",
       "      <td>3</td>\n",
       "      <td>8</td>\n",
       "      <td>1.1</td>\n",
       "      <td>9.0</td>\n",
       "    </tr>\n",
       "    <tr>\n",
       "      <th>8</th>\n",
       "      <td>Изменить цвет фона главной страницы, чтобы увеличить вовлеченность пользователей</td>\n",
       "      <td>3</td>\n",
       "      <td>1</td>\n",
       "      <td>1</td>\n",
       "      <td>1</td>\n",
       "      <td>1.0</td>\n",
       "      <td>3.0</td>\n",
       "    </tr>\n",
       "  </tbody>\n",
       "</table>\n",
       "</div>"
      ],
      "text/plain": [
       "                                                                                                     hypothesis  \\\n",
       "0                                                       Запустить акцию, дающую скидку на товар в день рождения   \n",
       "1            Добавить два новых канала привлечения трафика, что позволит привлекать на 30% больше пользователей   \n",
       "2              Добавить форму подписки на все основные страницы, чтобы собрать базу клиентов для email-рассылок   \n",
       "3          Показать на главной странице баннеры с актуальными акциями и распродажами, чтобы увеличить конверсию   \n",
       "4  Добавить блоки рекомендаций товаров на сайт интернет магазина, чтобы повысить конверсию и средний чек заказа   \n",
       "5                                     Запустить собственную службу доставки, что сократит срок доставки заказов   \n",
       "6                      Добавить страницу отзывов клиентов о магазине, что позволит увеличить количество заказов   \n",
       "7           Изменить структура категорий, что увеличит конверсию, т.к. пользователи быстрее найдут нужный товар   \n",
       "8                              Изменить цвет фона главной страницы, чтобы увеличить вовлеченность пользователей   \n",
       "\n",
       "   reach  impact  confidence  efforts   ICE   RICE  \n",
       "0      1       9           9        5  16.2   16.2  \n",
       "1      3      10           8        6  13.3   40.0  \n",
       "2     10       7           8        5  11.2  112.0  \n",
       "3      5       3           8        3   8.0   40.0  \n",
       "4      8       3           7        3   7.0   56.0  \n",
       "5      2       5           4       10   2.0    4.0  \n",
       "6      3       2           2        3   1.3    4.0  \n",
       "7      8       3           3        8   1.1    9.0  \n",
       "8      3       1           1        1   1.0    3.0  "
      ]
     },
     "execution_count": 8,
     "metadata": {},
     "output_type": "execute_result"
    }
   ],
   "source": [
    "hypothesis.sort_values(by='ICE', ascending=False).reset_index(drop=True)"
   ]
  },
  {
   "cell_type": "code",
   "execution_count": 9,
   "id": "29b93b54",
   "metadata": {
    "scrolled": false
   },
   "outputs": [
    {
     "data": {
      "text/html": [
       "<div>\n",
       "<style scoped>\n",
       "    .dataframe tbody tr th:only-of-type {\n",
       "        vertical-align: middle;\n",
       "    }\n",
       "\n",
       "    .dataframe tbody tr th {\n",
       "        vertical-align: top;\n",
       "    }\n",
       "\n",
       "    .dataframe thead th {\n",
       "        text-align: right;\n",
       "    }\n",
       "</style>\n",
       "<table border=\"1\" class=\"dataframe\">\n",
       "  <thead>\n",
       "    <tr style=\"text-align: right;\">\n",
       "      <th></th>\n",
       "      <th>hypothesis</th>\n",
       "      <th>reach</th>\n",
       "      <th>impact</th>\n",
       "      <th>confidence</th>\n",
       "      <th>efforts</th>\n",
       "      <th>ICE</th>\n",
       "      <th>RICE</th>\n",
       "    </tr>\n",
       "  </thead>\n",
       "  <tbody>\n",
       "    <tr>\n",
       "      <th>0</th>\n",
       "      <td>Добавить форму подписки на все основные страницы, чтобы собрать базу клиентов для email-рассылок</td>\n",
       "      <td>10</td>\n",
       "      <td>7</td>\n",
       "      <td>8</td>\n",
       "      <td>5</td>\n",
       "      <td>11.2</td>\n",
       "      <td>112.0</td>\n",
       "    </tr>\n",
       "    <tr>\n",
       "      <th>1</th>\n",
       "      <td>Добавить блоки рекомендаций товаров на сайт интернет магазина, чтобы повысить конверсию и средний чек заказа</td>\n",
       "      <td>8</td>\n",
       "      <td>3</td>\n",
       "      <td>7</td>\n",
       "      <td>3</td>\n",
       "      <td>7.0</td>\n",
       "      <td>56.0</td>\n",
       "    </tr>\n",
       "    <tr>\n",
       "      <th>2</th>\n",
       "      <td>Добавить два новых канала привлечения трафика, что позволит привлекать на 30% больше пользователей</td>\n",
       "      <td>3</td>\n",
       "      <td>10</td>\n",
       "      <td>8</td>\n",
       "      <td>6</td>\n",
       "      <td>13.3</td>\n",
       "      <td>40.0</td>\n",
       "    </tr>\n",
       "    <tr>\n",
       "      <th>3</th>\n",
       "      <td>Показать на главной странице баннеры с актуальными акциями и распродажами, чтобы увеличить конверсию</td>\n",
       "      <td>5</td>\n",
       "      <td>3</td>\n",
       "      <td>8</td>\n",
       "      <td>3</td>\n",
       "      <td>8.0</td>\n",
       "      <td>40.0</td>\n",
       "    </tr>\n",
       "    <tr>\n",
       "      <th>4</th>\n",
       "      <td>Запустить акцию, дающую скидку на товар в день рождения</td>\n",
       "      <td>1</td>\n",
       "      <td>9</td>\n",
       "      <td>9</td>\n",
       "      <td>5</td>\n",
       "      <td>16.2</td>\n",
       "      <td>16.2</td>\n",
       "    </tr>\n",
       "    <tr>\n",
       "      <th>5</th>\n",
       "      <td>Изменить структура категорий, что увеличит конверсию, т.к. пользователи быстрее найдут нужный товар</td>\n",
       "      <td>8</td>\n",
       "      <td>3</td>\n",
       "      <td>3</td>\n",
       "      <td>8</td>\n",
       "      <td>1.1</td>\n",
       "      <td>9.0</td>\n",
       "    </tr>\n",
       "    <tr>\n",
       "      <th>6</th>\n",
       "      <td>Запустить собственную службу доставки, что сократит срок доставки заказов</td>\n",
       "      <td>2</td>\n",
       "      <td>5</td>\n",
       "      <td>4</td>\n",
       "      <td>10</td>\n",
       "      <td>2.0</td>\n",
       "      <td>4.0</td>\n",
       "    </tr>\n",
       "    <tr>\n",
       "      <th>7</th>\n",
       "      <td>Добавить страницу отзывов клиентов о магазине, что позволит увеличить количество заказов</td>\n",
       "      <td>3</td>\n",
       "      <td>2</td>\n",
       "      <td>2</td>\n",
       "      <td>3</td>\n",
       "      <td>1.3</td>\n",
       "      <td>4.0</td>\n",
       "    </tr>\n",
       "    <tr>\n",
       "      <th>8</th>\n",
       "      <td>Изменить цвет фона главной страницы, чтобы увеличить вовлеченность пользователей</td>\n",
       "      <td>3</td>\n",
       "      <td>1</td>\n",
       "      <td>1</td>\n",
       "      <td>1</td>\n",
       "      <td>1.0</td>\n",
       "      <td>3.0</td>\n",
       "    </tr>\n",
       "  </tbody>\n",
       "</table>\n",
       "</div>"
      ],
      "text/plain": [
       "                                                                                                     hypothesis  \\\n",
       "0              Добавить форму подписки на все основные страницы, чтобы собрать базу клиентов для email-рассылок   \n",
       "1  Добавить блоки рекомендаций товаров на сайт интернет магазина, чтобы повысить конверсию и средний чек заказа   \n",
       "2            Добавить два новых канала привлечения трафика, что позволит привлекать на 30% больше пользователей   \n",
       "3          Показать на главной странице баннеры с актуальными акциями и распродажами, чтобы увеличить конверсию   \n",
       "4                                                       Запустить акцию, дающую скидку на товар в день рождения   \n",
       "5           Изменить структура категорий, что увеличит конверсию, т.к. пользователи быстрее найдут нужный товар   \n",
       "6                                     Запустить собственную службу доставки, что сократит срок доставки заказов   \n",
       "7                      Добавить страницу отзывов клиентов о магазине, что позволит увеличить количество заказов   \n",
       "8                              Изменить цвет фона главной страницы, чтобы увеличить вовлеченность пользователей   \n",
       "\n",
       "   reach  impact  confidence  efforts   ICE   RICE  \n",
       "0     10       7           8        5  11.2  112.0  \n",
       "1      8       3           7        3   7.0   56.0  \n",
       "2      3      10           8        6  13.3   40.0  \n",
       "3      5       3           8        3   8.0   40.0  \n",
       "4      1       9           9        5  16.2   16.2  \n",
       "5      8       3           3        8   1.1    9.0  \n",
       "6      2       5           4       10   2.0    4.0  \n",
       "7      3       2           2        3   1.3    4.0  \n",
       "8      3       1           1        1   1.0    3.0  "
      ]
     },
     "execution_count": 9,
     "metadata": {},
     "output_type": "execute_result"
    }
   ],
   "source": [
    "hypothesis.sort_values(by='RICE', ascending=False).reset_index(drop=True)"
   ]
  },
  {
   "cell_type": "markdown",
   "id": "2553f0c8",
   "metadata": {},
   "source": [
    "При приоритезации гипотез по фрэймворку ICE первые четыре места заняли гипотезы \"Запустить акцию, дающую скидку на товар в день рождения\", \"Добавить два новых канала привлечения трафика, что позволит привлекать на 30% больше пользователей\", \"Добавить форму подписки на все основные страницы, чтобы собрать базу клиентов для email-рассылок\", \"Показать на главной странице баннеры с актуальными акциями и распродажами, чтобы увеличить конверсию\". При приоретизации гипотез по RICE в четверку вошли: . \"Добавить форму подписки на все основные страницы, чтобы собрать базу клиентов для email-рассылок\", \"Добавить блоки рекомендаций товаров на сайт интернет магазина, чтобы повысить конверсию и средний чек заказа\", \"Добавить два новых канала привлечения трафика, что позволит привлекать на 30% больше пользователей\", \"Показать на главной странице баннеры с актуальными акциями и распродажами, чтобы увеличить конверсию\". Гипотеза \"Запустить акцию, дающую скидку на товар в день рождения\" сильно потеряла свои позиции, т.к. хоть она и сильно влияет на пользователей, однако охват вовлеченых пользователей очень низок. Гипотеза \"Добавить блоки рекомендаций товаров на сайт интернет магазина, чтобы повысить конверсию и средний чек заказа\" наоборот поднялась в приоритете, так как у нее неплохой охват."
   ]
  },
  {
   "cell_type": "markdown",
   "id": "69c5ec37",
   "metadata": {},
   "source": [
    "# Часть 2"
   ]
  },
  {
   "cell_type": "markdown",
   "id": "e4f3b5ca",
   "metadata": {},
   "source": [
    "Цель данного теста - определить может ли введение изменений, проверяемых на группе В статистически значимо увеличить прибыль"
   ]
  },
  {
   "cell_type": "markdown",
   "id": "a926dee7",
   "metadata": {},
   "source": [
    "Загружаем необходимые датасеты"
   ]
  },
  {
   "cell_type": "code",
   "execution_count": 10,
   "id": "884a84ce",
   "metadata": {},
   "outputs": [],
   "source": [
    "orders = pd.read_csv('/datasets/orders.csv')\n",
    "orders.date = orders.date.apply(lambda x: pd.to_datetime(x, format='%Y-%m-%d'))"
   ]
  },
  {
   "cell_type": "code",
   "execution_count": 11,
   "id": "4a9f28ca",
   "metadata": {},
   "outputs": [],
   "source": [
    "visitors = pd.read_csv('/datasets/visitors.csv')\n",
    "visitors.date = visitors.date.apply(lambda x: pd.to_datetime(x, format='%Y-%m-%d'))"
   ]
  },
  {
   "cell_type": "code",
   "execution_count": 12,
   "id": "ea144d0b",
   "metadata": {},
   "outputs": [
    {
     "data": {
      "text/html": [
       "<div>\n",
       "<style scoped>\n",
       "    .dataframe tbody tr th:only-of-type {\n",
       "        vertical-align: middle;\n",
       "    }\n",
       "\n",
       "    .dataframe tbody tr th {\n",
       "        vertical-align: top;\n",
       "    }\n",
       "\n",
       "    .dataframe thead th {\n",
       "        text-align: right;\n",
       "    }\n",
       "</style>\n",
       "<table border=\"1\" class=\"dataframe\">\n",
       "  <thead>\n",
       "    <tr style=\"text-align: right;\">\n",
       "      <th></th>\n",
       "      <th>transactionId</th>\n",
       "      <th>visitorId</th>\n",
       "      <th>date</th>\n",
       "      <th>revenue</th>\n",
       "      <th>group</th>\n",
       "    </tr>\n",
       "  </thead>\n",
       "  <tbody>\n",
       "    <tr>\n",
       "      <th>0</th>\n",
       "      <td>3667963787</td>\n",
       "      <td>3312258926</td>\n",
       "      <td>2019-08-15</td>\n",
       "      <td>1650</td>\n",
       "      <td>B</td>\n",
       "    </tr>\n",
       "    <tr>\n",
       "      <th>1</th>\n",
       "      <td>2804400009</td>\n",
       "      <td>3642806036</td>\n",
       "      <td>2019-08-15</td>\n",
       "      <td>730</td>\n",
       "      <td>B</td>\n",
       "    </tr>\n",
       "    <tr>\n",
       "      <th>2</th>\n",
       "      <td>2961555356</td>\n",
       "      <td>4069496402</td>\n",
       "      <td>2019-08-15</td>\n",
       "      <td>400</td>\n",
       "      <td>A</td>\n",
       "    </tr>\n",
       "    <tr>\n",
       "      <th>3</th>\n",
       "      <td>3797467345</td>\n",
       "      <td>1196621759</td>\n",
       "      <td>2019-08-15</td>\n",
       "      <td>9759</td>\n",
       "      <td>B</td>\n",
       "    </tr>\n",
       "    <tr>\n",
       "      <th>4</th>\n",
       "      <td>2282983706</td>\n",
       "      <td>2322279887</td>\n",
       "      <td>2019-08-15</td>\n",
       "      <td>2308</td>\n",
       "      <td>B</td>\n",
       "    </tr>\n",
       "  </tbody>\n",
       "</table>\n",
       "</div>"
      ],
      "text/plain": [
       "   transactionId   visitorId       date  revenue group\n",
       "0     3667963787  3312258926 2019-08-15     1650     B\n",
       "1     2804400009  3642806036 2019-08-15      730     B\n",
       "2     2961555356  4069496402 2019-08-15      400     A\n",
       "3     3797467345  1196621759 2019-08-15     9759     B\n",
       "4     2282983706  2322279887 2019-08-15     2308     B"
      ]
     },
     "execution_count": 12,
     "metadata": {},
     "output_type": "execute_result"
    }
   ],
   "source": [
    "orders.head()"
   ]
  },
  {
   "cell_type": "code",
   "execution_count": 13,
   "id": "f6afb845",
   "metadata": {},
   "outputs": [
    {
     "data": {
      "text/html": [
       "<div>\n",
       "<style scoped>\n",
       "    .dataframe tbody tr th:only-of-type {\n",
       "        vertical-align: middle;\n",
       "    }\n",
       "\n",
       "    .dataframe tbody tr th {\n",
       "        vertical-align: top;\n",
       "    }\n",
       "\n",
       "    .dataframe thead th {\n",
       "        text-align: right;\n",
       "    }\n",
       "</style>\n",
       "<table border=\"1\" class=\"dataframe\">\n",
       "  <thead>\n",
       "    <tr style=\"text-align: right;\">\n",
       "      <th></th>\n",
       "      <th>date</th>\n",
       "      <th>group</th>\n",
       "      <th>visitors</th>\n",
       "    </tr>\n",
       "  </thead>\n",
       "  <tbody>\n",
       "    <tr>\n",
       "      <th>0</th>\n",
       "      <td>2019-08-01</td>\n",
       "      <td>A</td>\n",
       "      <td>719</td>\n",
       "    </tr>\n",
       "    <tr>\n",
       "      <th>1</th>\n",
       "      <td>2019-08-02</td>\n",
       "      <td>A</td>\n",
       "      <td>619</td>\n",
       "    </tr>\n",
       "    <tr>\n",
       "      <th>2</th>\n",
       "      <td>2019-08-03</td>\n",
       "      <td>A</td>\n",
       "      <td>507</td>\n",
       "    </tr>\n",
       "    <tr>\n",
       "      <th>3</th>\n",
       "      <td>2019-08-04</td>\n",
       "      <td>A</td>\n",
       "      <td>717</td>\n",
       "    </tr>\n",
       "    <tr>\n",
       "      <th>4</th>\n",
       "      <td>2019-08-05</td>\n",
       "      <td>A</td>\n",
       "      <td>756</td>\n",
       "    </tr>\n",
       "  </tbody>\n",
       "</table>\n",
       "</div>"
      ],
      "text/plain": [
       "        date group  visitors\n",
       "0 2019-08-01     A       719\n",
       "1 2019-08-02     A       619\n",
       "2 2019-08-03     A       507\n",
       "3 2019-08-04     A       717\n",
       "4 2019-08-05     A       756"
      ]
     },
     "execution_count": 13,
     "metadata": {},
     "output_type": "execute_result"
    }
   ],
   "source": [
    "visitors.head()"
   ]
  },
  {
   "cell_type": "code",
   "execution_count": 14,
   "id": "1230933d",
   "metadata": {},
   "outputs": [
    {
     "name": "stdout",
     "output_type": "stream",
     "text": [
      "<class 'pandas.core.frame.DataFrame'>\n",
      "RangeIndex: 1197 entries, 0 to 1196\n",
      "Data columns (total 5 columns):\n",
      " #   Column         Non-Null Count  Dtype         \n",
      "---  ------         --------------  -----         \n",
      " 0   transactionId  1197 non-null   int64         \n",
      " 1   visitorId      1197 non-null   int64         \n",
      " 2   date           1197 non-null   datetime64[ns]\n",
      " 3   revenue        1197 non-null   int64         \n",
      " 4   group          1197 non-null   object        \n",
      "dtypes: datetime64[ns](1), int64(3), object(1)\n",
      "memory usage: 46.9+ KB\n"
     ]
    }
   ],
   "source": [
    "orders.info()"
   ]
  },
  {
   "cell_type": "code",
   "execution_count": 15,
   "id": "c64566cd",
   "metadata": {},
   "outputs": [
    {
     "name": "stdout",
     "output_type": "stream",
     "text": [
      "<class 'pandas.core.frame.DataFrame'>\n",
      "RangeIndex: 62 entries, 0 to 61\n",
      "Data columns (total 3 columns):\n",
      " #   Column    Non-Null Count  Dtype         \n",
      "---  ------    --------------  -----         \n",
      " 0   date      62 non-null     datetime64[ns]\n",
      " 1   group     62 non-null     object        \n",
      " 2   visitors  62 non-null     int64         \n",
      "dtypes: datetime64[ns](1), int64(1), object(1)\n",
      "memory usage: 1.6+ KB\n"
     ]
    }
   ],
   "source": [
    "visitors.info()"
   ]
  },
  {
   "cell_type": "code",
   "execution_count": 16,
   "id": "787774a1",
   "metadata": {},
   "outputs": [
    {
     "data": {
      "text/plain": [
       "0"
      ]
     },
     "execution_count": 16,
     "metadata": {},
     "output_type": "execute_result"
    }
   ],
   "source": [
    "visitors.duplicated().sum()"
   ]
  },
  {
   "cell_type": "code",
   "execution_count": 17,
   "id": "bda13892",
   "metadata": {},
   "outputs": [
    {
     "data": {
      "text/plain": [
       "0"
      ]
     },
     "execution_count": 17,
     "metadata": {},
     "output_type": "execute_result"
    }
   ],
   "source": [
    "orders.duplicated().sum()"
   ]
  },
  {
   "cell_type": "markdown",
   "id": "b5b01a46",
   "metadata": {},
   "source": [
    "Мы изменили формат даты на date_time, проверили датасет на пропуски и дубликаты. Они отсутствуют"
   ]
  },
  {
   "cell_type": "markdown",
   "id": "5b38312a",
   "metadata": {},
   "source": [
    "Создадим датасет с уникальными парами дат и групп"
   ]
  },
  {
   "cell_type": "code",
   "execution_count": 18,
   "id": "996de950",
   "metadata": {},
   "outputs": [],
   "source": [
    "date_groups = orders[['date', 'group']].drop_duplicates()"
   ]
  },
  {
   "cell_type": "markdown",
   "id": "59c0a85a",
   "metadata": {},
   "source": [
    "##  Кумулятивная выручка"
   ]
  },
  {
   "cell_type": "markdown",
   "id": "9b1e6f68",
   "metadata": {},
   "source": [
    "Проверим, есть ли пользователи входящие в обе группы"
   ]
  },
  {
   "cell_type": "code",
   "execution_count": 19,
   "id": "8a860ba8",
   "metadata": {
    "scrolled": true
   },
   "outputs": [],
   "source": [
    "temp_ = orders.groupby('visitorId', as_index=False)['group'].nunique()"
   ]
  },
  {
   "cell_type": "code",
   "execution_count": 20,
   "id": "a925b145",
   "metadata": {},
   "outputs": [
    {
     "data": {
      "text/plain": [
       "58"
      ]
     },
     "execution_count": 20,
     "metadata": {},
     "output_type": "execute_result"
    }
   ],
   "source": [
    "len(temp_[temp_.group > 1].visitorId.unique())"
   ]
  },
  {
   "cell_type": "code",
   "execution_count": 21,
   "id": "d60cfb96",
   "metadata": {},
   "outputs": [],
   "source": [
    "list_temp = temp_[temp_.group > 1].visitorId.unique()"
   ]
  },
  {
   "cell_type": "code",
   "execution_count": 22,
   "id": "c7954fb2",
   "metadata": {},
   "outputs": [
    {
     "data": {
      "text/html": [
       "<div>\n",
       "<style scoped>\n",
       "    .dataframe tbody tr th:only-of-type {\n",
       "        vertical-align: middle;\n",
       "    }\n",
       "\n",
       "    .dataframe tbody tr th {\n",
       "        vertical-align: top;\n",
       "    }\n",
       "\n",
       "    .dataframe thead th {\n",
       "        text-align: right;\n",
       "    }\n",
       "</style>\n",
       "<table border=\"1\" class=\"dataframe\">\n",
       "  <thead>\n",
       "    <tr style=\"text-align: right;\">\n",
       "      <th></th>\n",
       "      <th>transactionId</th>\n",
       "      <th>visitorId</th>\n",
       "      <th>date</th>\n",
       "      <th>revenue</th>\n",
       "      <th>group</th>\n",
       "    </tr>\n",
       "  </thead>\n",
       "  <tbody>\n",
       "    <tr>\n",
       "      <th>703</th>\n",
       "      <td>4293855558</td>\n",
       "      <td>8300375</td>\n",
       "      <td>2019-08-07</td>\n",
       "      <td>1790</td>\n",
       "      <td>A</td>\n",
       "    </tr>\n",
       "    <tr>\n",
       "      <th>71</th>\n",
       "      <td>3679129301</td>\n",
       "      <td>8300375</td>\n",
       "      <td>2019-08-01</td>\n",
       "      <td>10510</td>\n",
       "      <td>B</td>\n",
       "    </tr>\n",
       "    <tr>\n",
       "      <th>823</th>\n",
       "      <td>2971973105</td>\n",
       "      <td>199603092</td>\n",
       "      <td>2019-08-27</td>\n",
       "      <td>2790</td>\n",
       "      <td>A</td>\n",
       "    </tr>\n",
       "    <tr>\n",
       "      <th>246</th>\n",
       "      <td>437656952</td>\n",
       "      <td>199603092</td>\n",
       "      <td>2019-08-02</td>\n",
       "      <td>3488</td>\n",
       "      <td>B</td>\n",
       "    </tr>\n",
       "    <tr>\n",
       "      <th>26</th>\n",
       "      <td>2223239646</td>\n",
       "      <td>199603092</td>\n",
       "      <td>2019-08-15</td>\n",
       "      <td>3488</td>\n",
       "      <td>A</td>\n",
       "    </tr>\n",
       "    <tr>\n",
       "      <th>...</th>\n",
       "      <td>...</td>\n",
       "      <td>...</td>\n",
       "      <td>...</td>\n",
       "      <td>...</td>\n",
       "      <td>...</td>\n",
       "    </tr>\n",
       "    <tr>\n",
       "      <th>187</th>\n",
       "      <td>2048878902</td>\n",
       "      <td>4256040402</td>\n",
       "      <td>2019-08-17</td>\n",
       "      <td>1550</td>\n",
       "      <td>A</td>\n",
       "    </tr>\n",
       "    <tr>\n",
       "      <th>114</th>\n",
       "      <td>1120327437</td>\n",
       "      <td>4256040402</td>\n",
       "      <td>2019-08-01</td>\n",
       "      <td>5800</td>\n",
       "      <td>A</td>\n",
       "    </tr>\n",
       "    <tr>\n",
       "      <th>60</th>\n",
       "      <td>1421016313</td>\n",
       "      <td>4256040402</td>\n",
       "      <td>2019-08-16</td>\n",
       "      <td>56650</td>\n",
       "      <td>B</td>\n",
       "    </tr>\n",
       "    <tr>\n",
       "      <th>662</th>\n",
       "      <td>1811671147</td>\n",
       "      <td>4266935830</td>\n",
       "      <td>2019-08-29</td>\n",
       "      <td>78990</td>\n",
       "      <td>A</td>\n",
       "    </tr>\n",
       "    <tr>\n",
       "      <th>682</th>\n",
       "      <td>1216533772</td>\n",
       "      <td>4266935830</td>\n",
       "      <td>2019-08-29</td>\n",
       "      <td>78990</td>\n",
       "      <td>B</td>\n",
       "    </tr>\n",
       "  </tbody>\n",
       "</table>\n",
       "<p>181 rows × 5 columns</p>\n",
       "</div>"
      ],
      "text/plain": [
       "     transactionId   visitorId       date  revenue group\n",
       "703     4293855558     8300375 2019-08-07     1790     A\n",
       "71      3679129301     8300375 2019-08-01    10510     B\n",
       "823     2971973105   199603092 2019-08-27     2790     A\n",
       "246      437656952   199603092 2019-08-02     3488     B\n",
       "26      2223239646   199603092 2019-08-15     3488     A\n",
       "..             ...         ...        ...      ...   ...\n",
       "187     2048878902  4256040402 2019-08-17     1550     A\n",
       "114     1120327437  4256040402 2019-08-01     5800     A\n",
       "60      1421016313  4256040402 2019-08-16    56650     B\n",
       "662     1811671147  4266935830 2019-08-29    78990     A\n",
       "682     1216533772  4266935830 2019-08-29    78990     B\n",
       "\n",
       "[181 rows x 5 columns]"
      ]
     },
     "execution_count": 22,
     "metadata": {},
     "output_type": "execute_result"
    }
   ],
   "source": [
    "orders.query(\"visitorId in @list_temp\").sort_values(by='visitorId')"
   ]
  },
  {
   "cell_type": "markdown",
   "id": "633fedfc",
   "metadata": {},
   "source": [
    "Таких пользователей 58. Удалим их из датасета"
   ]
  },
  {
   "cell_type": "code",
   "execution_count": 23,
   "id": "69ed73ae",
   "metadata": {},
   "outputs": [],
   "source": [
    "orders = orders.query(\"visitorId not in @list_temp\")"
   ]
  },
  {
   "cell_type": "markdown",
   "id": "7c6a9cf5",
   "metadata": {},
   "source": [
    "Посчитаем кумулятивную выручку по дням и группам."
   ]
  },
  {
   "cell_type": "code",
   "execution_count": 24,
   "id": "aecbb432",
   "metadata": {},
   "outputs": [],
   "source": [
    "orders_agg = date_groups.apply(lambda x: orders[np.logical_and(orders['date'] <= x['date'], orders['group'] == x['group'])]\\\n",
    ".agg({'date' : 'max', 'group' : 'max', 'transactionId' : 'nunique', 'visitorId' : 'nunique', 'revenue' : 'sum'}), axis=1).sort_values(by=['date','group'])"
   ]
  },
  {
   "cell_type": "code",
   "execution_count": 25,
   "id": "a92958bd",
   "metadata": {},
   "outputs": [
    {
     "data": {
      "text/html": [
       "<div>\n",
       "<style scoped>\n",
       "    .dataframe tbody tr th:only-of-type {\n",
       "        vertical-align: middle;\n",
       "    }\n",
       "\n",
       "    .dataframe tbody tr th {\n",
       "        vertical-align: top;\n",
       "    }\n",
       "\n",
       "    .dataframe thead th {\n",
       "        text-align: right;\n",
       "    }\n",
       "</style>\n",
       "<table border=\"1\" class=\"dataframe\">\n",
       "  <thead>\n",
       "    <tr style=\"text-align: right;\">\n",
       "      <th></th>\n",
       "      <th>date</th>\n",
       "      <th>group</th>\n",
       "      <th>transactionId</th>\n",
       "      <th>visitorId</th>\n",
       "      <th>revenue</th>\n",
       "    </tr>\n",
       "  </thead>\n",
       "  <tbody>\n",
       "    <tr>\n",
       "      <th>55</th>\n",
       "      <td>2019-08-01</td>\n",
       "      <td>A</td>\n",
       "      <td>23</td>\n",
       "      <td>19</td>\n",
       "      <td>142779</td>\n",
       "    </tr>\n",
       "    <tr>\n",
       "      <th>66</th>\n",
       "      <td>2019-08-01</td>\n",
       "      <td>B</td>\n",
       "      <td>17</td>\n",
       "      <td>17</td>\n",
       "      <td>59758</td>\n",
       "    </tr>\n",
       "    <tr>\n",
       "      <th>175</th>\n",
       "      <td>2019-08-02</td>\n",
       "      <td>A</td>\n",
       "      <td>42</td>\n",
       "      <td>36</td>\n",
       "      <td>234381</td>\n",
       "    </tr>\n",
       "    <tr>\n",
       "      <th>173</th>\n",
       "      <td>2019-08-02</td>\n",
       "      <td>B</td>\n",
       "      <td>40</td>\n",
       "      <td>39</td>\n",
       "      <td>221801</td>\n",
       "    </tr>\n",
       "    <tr>\n",
       "      <th>291</th>\n",
       "      <td>2019-08-03</td>\n",
       "      <td>A</td>\n",
       "      <td>66</td>\n",
       "      <td>60</td>\n",
       "      <td>346854</td>\n",
       "    </tr>\n",
       "    <tr>\n",
       "      <th>...</th>\n",
       "      <td>...</td>\n",
       "      <td>...</td>\n",
       "      <td>...</td>\n",
       "      <td>...</td>\n",
       "      <td>...</td>\n",
       "    </tr>\n",
       "    <tr>\n",
       "      <th>496</th>\n",
       "      <td>2019-08-29</td>\n",
       "      <td>B</td>\n",
       "      <td>510</td>\n",
       "      <td>490</td>\n",
       "      <td>4746610</td>\n",
       "    </tr>\n",
       "    <tr>\n",
       "      <th>730</th>\n",
       "      <td>2019-08-30</td>\n",
       "      <td>A</td>\n",
       "      <td>460</td>\n",
       "      <td>437</td>\n",
       "      <td>3311413</td>\n",
       "    </tr>\n",
       "    <tr>\n",
       "      <th>690</th>\n",
       "      <td>2019-08-30</td>\n",
       "      <td>B</td>\n",
       "      <td>531</td>\n",
       "      <td>511</td>\n",
       "      <td>4955833</td>\n",
       "    </tr>\n",
       "    <tr>\n",
       "      <th>958</th>\n",
       "      <td>2019-08-31</td>\n",
       "      <td>A</td>\n",
       "      <td>468</td>\n",
       "      <td>445</td>\n",
       "      <td>3364656</td>\n",
       "    </tr>\n",
       "    <tr>\n",
       "      <th>930</th>\n",
       "      <td>2019-08-31</td>\n",
       "      <td>B</td>\n",
       "      <td>548</td>\n",
       "      <td>528</td>\n",
       "      <td>5068972</td>\n",
       "    </tr>\n",
       "  </tbody>\n",
       "</table>\n",
       "<p>62 rows × 5 columns</p>\n",
       "</div>"
      ],
      "text/plain": [
       "          date group  transactionId  visitorId  revenue\n",
       "55  2019-08-01     A             23         19   142779\n",
       "66  2019-08-01     B             17         17    59758\n",
       "175 2019-08-02     A             42         36   234381\n",
       "173 2019-08-02     B             40         39   221801\n",
       "291 2019-08-03     A             66         60   346854\n",
       "..         ...   ...            ...        ...      ...\n",
       "496 2019-08-29     B            510        490  4746610\n",
       "730 2019-08-30     A            460        437  3311413\n",
       "690 2019-08-30     B            531        511  4955833\n",
       "958 2019-08-31     A            468        445  3364656\n",
       "930 2019-08-31     B            548        528  5068972\n",
       "\n",
       "[62 rows x 5 columns]"
      ]
     },
     "execution_count": 25,
     "metadata": {},
     "output_type": "execute_result"
    }
   ],
   "source": [
    "orders_agg"
   ]
  },
  {
   "cell_type": "code",
   "execution_count": 26,
   "id": "3d6c2cab",
   "metadata": {},
   "outputs": [
    {
     "data": {
      "image/png": "[encoded data removed]",
      "text/plain": [
       "<Figure size 864x864 with 1 Axes>"
      ]
     },
     "metadata": {
      "needs_background": "light"
     },
     "output_type": "display_data"
    }
   ],
   "source": [
    "plt.figure(figsize=(12,12))\n",
    "plt.plot(orders_agg[orders_agg.group == 'A'].date, orders_agg[orders_agg.group == 'A'].revenue, label = 'А')\n",
    "plt.plot(orders_agg[orders_agg.group == 'B'].date, orders_agg[orders_agg.group == 'B'].revenue, label = \"B\")\n",
    "plt.legend()\n",
    "plt.title('Кумулятивная выручка по дням и группам')\n",
    "plt.xlabel('Дата')\n",
    "plt.ylabel('Кумулятивная выручка')\n",
    "plt.show()"
   ]
  },
  {
   "cell_type": "markdown",
   "id": "b3d6a6ff",
   "metadata": {},
   "source": [
    "По графику видно, что группа B имела большую кумулятивную выручку, хотя и держалась вблизи с выручкой группы А. Примерно 18.08.19 выручка группы В резко выросла. Вероятно это связано с совершением аномально дорогой покупки или аномально большого кол-ва заказов"
   ]
  },
  {
   "cell_type": "markdown",
   "id": "3f661ac7",
   "metadata": {},
   "source": [
    "## Кумулятивный средний чек"
   ]
  },
  {
   "cell_type": "markdown",
   "id": "7650d80f",
   "metadata": {},
   "source": [
    "Добавим в нашу таблицу колонку с кумулятивным средним чеком и пострим график"
   ]
  },
  {
   "cell_type": "code",
   "execution_count": 27,
   "id": "4c2fdbd1",
   "metadata": {},
   "outputs": [],
   "source": [
    "orders_agg['mean_costs'] = round(orders_agg.revenue / orders_agg.transactionId, 2)"
   ]
  },
  {
   "cell_type": "code",
   "execution_count": 28,
   "id": "05655218",
   "metadata": {},
   "outputs": [
    {
     "data": {
      "text/html": [
       "<div>\n",
       "<style scoped>\n",
       "    .dataframe tbody tr th:only-of-type {\n",
       "        vertical-align: middle;\n",
       "    }\n",
       "\n",
       "    .dataframe tbody tr th {\n",
       "        vertical-align: top;\n",
       "    }\n",
       "\n",
       "    .dataframe thead th {\n",
       "        text-align: right;\n",
       "    }\n",
       "</style>\n",
       "<table border=\"1\" class=\"dataframe\">\n",
       "  <thead>\n",
       "    <tr style=\"text-align: right;\">\n",
       "      <th></th>\n",
       "      <th>date</th>\n",
       "      <th>group</th>\n",
       "      <th>transactionId</th>\n",
       "      <th>visitorId</th>\n",
       "      <th>revenue</th>\n",
       "      <th>mean_costs</th>\n",
       "    </tr>\n",
       "  </thead>\n",
       "  <tbody>\n",
       "    <tr>\n",
       "      <th>55</th>\n",
       "      <td>2019-08-01</td>\n",
       "      <td>A</td>\n",
       "      <td>23</td>\n",
       "      <td>19</td>\n",
       "      <td>142779</td>\n",
       "      <td>6207.78</td>\n",
       "    </tr>\n",
       "    <tr>\n",
       "      <th>66</th>\n",
       "      <td>2019-08-01</td>\n",
       "      <td>B</td>\n",
       "      <td>17</td>\n",
       "      <td>17</td>\n",
       "      <td>59758</td>\n",
       "      <td>3515.18</td>\n",
       "    </tr>\n",
       "    <tr>\n",
       "      <th>175</th>\n",
       "      <td>2019-08-02</td>\n",
       "      <td>A</td>\n",
       "      <td>42</td>\n",
       "      <td>36</td>\n",
       "      <td>234381</td>\n",
       "      <td>5580.50</td>\n",
       "    </tr>\n",
       "    <tr>\n",
       "      <th>173</th>\n",
       "      <td>2019-08-02</td>\n",
       "      <td>B</td>\n",
       "      <td>40</td>\n",
       "      <td>39</td>\n",
       "      <td>221801</td>\n",
       "      <td>5545.02</td>\n",
       "    </tr>\n",
       "    <tr>\n",
       "      <th>291</th>\n",
       "      <td>2019-08-03</td>\n",
       "      <td>A</td>\n",
       "      <td>66</td>\n",
       "      <td>60</td>\n",
       "      <td>346854</td>\n",
       "      <td>5255.36</td>\n",
       "    </tr>\n",
       "    <tr>\n",
       "      <th>...</th>\n",
       "      <td>...</td>\n",
       "      <td>...</td>\n",
       "      <td>...</td>\n",
       "      <td>...</td>\n",
       "      <td>...</td>\n",
       "      <td>...</td>\n",
       "    </tr>\n",
       "    <tr>\n",
       "      <th>496</th>\n",
       "      <td>2019-08-29</td>\n",
       "      <td>B</td>\n",
       "      <td>510</td>\n",
       "      <td>490</td>\n",
       "      <td>4746610</td>\n",
       "      <td>9307.08</td>\n",
       "    </tr>\n",
       "    <tr>\n",
       "      <th>730</th>\n",
       "      <td>2019-08-30</td>\n",
       "      <td>A</td>\n",
       "      <td>460</td>\n",
       "      <td>437</td>\n",
       "      <td>3311413</td>\n",
       "      <td>7198.72</td>\n",
       "    </tr>\n",
       "    <tr>\n",
       "      <th>690</th>\n",
       "      <td>2019-08-30</td>\n",
       "      <td>B</td>\n",
       "      <td>531</td>\n",
       "      <td>511</td>\n",
       "      <td>4955833</td>\n",
       "      <td>9333.02</td>\n",
       "    </tr>\n",
       "    <tr>\n",
       "      <th>958</th>\n",
       "      <td>2019-08-31</td>\n",
       "      <td>A</td>\n",
       "      <td>468</td>\n",
       "      <td>445</td>\n",
       "      <td>3364656</td>\n",
       "      <td>7189.44</td>\n",
       "    </tr>\n",
       "    <tr>\n",
       "      <th>930</th>\n",
       "      <td>2019-08-31</td>\n",
       "      <td>B</td>\n",
       "      <td>548</td>\n",
       "      <td>528</td>\n",
       "      <td>5068972</td>\n",
       "      <td>9249.95</td>\n",
       "    </tr>\n",
       "  </tbody>\n",
       "</table>\n",
       "<p>62 rows × 6 columns</p>\n",
       "</div>"
      ],
      "text/plain": [
       "          date group  transactionId  visitorId  revenue  mean_costs\n",
       "55  2019-08-01     A             23         19   142779     6207.78\n",
       "66  2019-08-01     B             17         17    59758     3515.18\n",
       "175 2019-08-02     A             42         36   234381     5580.50\n",
       "173 2019-08-02     B             40         39   221801     5545.02\n",
       "291 2019-08-03     A             66         60   346854     5255.36\n",
       "..         ...   ...            ...        ...      ...         ...\n",
       "496 2019-08-29     B            510        490  4746610     9307.08\n",
       "730 2019-08-30     A            460        437  3311413     7198.72\n",
       "690 2019-08-30     B            531        511  4955833     9333.02\n",
       "958 2019-08-31     A            468        445  3364656     7189.44\n",
       "930 2019-08-31     B            548        528  5068972     9249.95\n",
       "\n",
       "[62 rows x 6 columns]"
      ]
     },
     "execution_count": 28,
     "metadata": {},
     "output_type": "execute_result"
    }
   ],
   "source": [
    "orders_agg"
   ]
  },
  {
   "cell_type": "code",
   "execution_count": 29,
   "id": "4206b16f",
   "metadata": {},
   "outputs": [
    {
     "data": {
      "image/png": "[encoded data removed]",
      "text/plain": [
       "<Figure size 864x864 with 1 Axes>"
      ]
     },
     "metadata": {
      "needs_background": "light"
     },
     "output_type": "display_data"
    }
   ],
   "source": [
    "plt.figure(figsize=(12,12))\n",
    "plt.plot(orders_agg[orders_agg.group == 'A'].date, orders_agg[orders_agg.group == 'A'].mean_costs, label = 'А')\n",
    "plt.plot(orders_agg[orders_agg.group == 'B'].date, orders_agg[orders_agg.group == 'B'].mean_costs, label = \"B\")\n",
    "plt.legend()\n",
    "plt.title('Кумулятивный средний чек')\n",
    "plt.xlabel('Дата')\n",
    "plt.ylabel('Кумулятивный средний чек')\n",
    "plt.show()"
   ]
  },
  {
   "cell_type": "markdown",
   "id": "153cc9b1",
   "metadata": {},
   "source": [
    "По графику видно что в целом средний чек группы В больше чем группы А, но есть несколько пиков. 13.08 в группе А и 18.08 в группе В были аномально доргие покупки"
   ]
  },
  {
   "cell_type": "markdown",
   "id": "228e9c6b",
   "metadata": {},
   "source": [
    "## Относительное изменение кумулятивного чека"
   ]
  },
  {
   "cell_type": "markdown",
   "id": "7176fb3a",
   "metadata": {},
   "source": [
    "Построим график относительного изменения кумулятивного чека группы В к группе А"
   ]
  },
  {
   "cell_type": "code",
   "execution_count": 30,
   "id": "6df1dc0c",
   "metadata": {},
   "outputs": [],
   "source": [
    "cumulative_a = orders_agg[orders_agg.group == 'A'][['date', 'group', 'mean_costs']].copy()\n",
    "cumulative_b = orders_agg[orders_agg.group == 'B'][['date', 'group', 'mean_costs']].copy()"
   ]
  },
  {
   "cell_type": "code",
   "execution_count": 31,
   "id": "85d391c2",
   "metadata": {},
   "outputs": [],
   "source": [
    "cumulative_merged = cumulative_a.merge(cumulative_b, on='date', suffixes=['_a', '_b'])"
   ]
  },
  {
   "cell_type": "code",
   "execution_count": 32,
   "id": "53fd0dc7",
   "metadata": {
    "scrolled": true
   },
   "outputs": [
    {
     "data": {
      "text/html": [
       "<div>\n",
       "<style scoped>\n",
       "    .dataframe tbody tr th:only-of-type {\n",
       "        vertical-align: middle;\n",
       "    }\n",
       "\n",
       "    .dataframe tbody tr th {\n",
       "        vertical-align: top;\n",
       "    }\n",
       "\n",
       "    .dataframe thead th {\n",
       "        text-align: right;\n",
       "    }\n",
       "</style>\n",
       "<table border=\"1\" class=\"dataframe\">\n",
       "  <thead>\n",
       "    <tr style=\"text-align: right;\">\n",
       "      <th></th>\n",
       "      <th>date</th>\n",
       "      <th>group_a</th>\n",
       "      <th>mean_costs_a</th>\n",
       "      <th>group_b</th>\n",
       "      <th>mean_costs_b</th>\n",
       "    </tr>\n",
       "  </thead>\n",
       "  <tbody>\n",
       "    <tr>\n",
       "      <th>0</th>\n",
       "      <td>2019-08-01</td>\n",
       "      <td>A</td>\n",
       "      <td>6207.78</td>\n",
       "      <td>B</td>\n",
       "      <td>3515.18</td>\n",
       "    </tr>\n",
       "    <tr>\n",
       "      <th>1</th>\n",
       "      <td>2019-08-02</td>\n",
       "      <td>A</td>\n",
       "      <td>5580.50</td>\n",
       "      <td>B</td>\n",
       "      <td>5545.02</td>\n",
       "    </tr>\n",
       "    <tr>\n",
       "      <th>2</th>\n",
       "      <td>2019-08-03</td>\n",
       "      <td>A</td>\n",
       "      <td>5255.36</td>\n",
       "      <td>B</td>\n",
       "      <td>5349.07</td>\n",
       "    </tr>\n",
       "    <tr>\n",
       "      <th>3</th>\n",
       "      <td>2019-08-04</td>\n",
       "      <td>A</td>\n",
       "      <td>5039.35</td>\n",
       "      <td>B</td>\n",
       "      <td>5672.65</td>\n",
       "    </tr>\n",
       "    <tr>\n",
       "      <th>4</th>\n",
       "      <td>2019-08-05</td>\n",
       "      <td>A</td>\n",
       "      <td>4792.05</td>\n",
       "      <td>B</td>\n",
       "      <td>5344.36</td>\n",
       "    </tr>\n",
       "  </tbody>\n",
       "</table>\n",
       "</div>"
      ],
      "text/plain": [
       "        date group_a  mean_costs_a group_b  mean_costs_b\n",
       "0 2019-08-01       A       6207.78       B       3515.18\n",
       "1 2019-08-02       A       5580.50       B       5545.02\n",
       "2 2019-08-03       A       5255.36       B       5349.07\n",
       "3 2019-08-04       A       5039.35       B       5672.65\n",
       "4 2019-08-05       A       4792.05       B       5344.36"
      ]
     },
     "execution_count": 32,
     "metadata": {},
     "output_type": "execute_result"
    }
   ],
   "source": [
    "cumulative_merged.head()"
   ]
  },
  {
   "cell_type": "code",
   "execution_count": 33,
   "id": "8a53eff2",
   "metadata": {},
   "outputs": [
    {
     "data": {
      "image/png": "[encoded data removed]",
      "text/plain": [
       "<Figure size 864x864 with 1 Axes>"
      ]
     },
     "metadata": {
      "needs_background": "light"
     },
     "output_type": "display_data"
    }
   ],
   "source": [
    "plt.figure(figsize=(12,12))\n",
    "plt.plot(cumulative_merged.date, (cumulative_merged.mean_costs_b / cumulative_merged.mean_costs_a - 1))\n",
    "plt.yticks(np.arange(-0.4, 0.7, step=0.1))\n",
    "plt.title('Относительное изменение кумулятивного чека группы В к группе А')\n",
    "plt.xlabel('Дата')\n",
    "plt.ylabel('Изменение кумулятивного чека, %')\n",
    "plt.axhline(0, color='black', linestyle='--')\n",
    "plt.show()"
   ]
  },
  {
   "cell_type": "markdown",
   "id": "0cfbd199",
   "metadata": {},
   "source": [
    "Большую часть времени средний чек группы В больше чем у группы А, за исключением 13.08. Наблюдаются те же аномалии, что и в других графиках"
   ]
  },
  {
   "cell_type": "markdown",
   "id": "71bbfb1b",
   "metadata": {},
   "source": [
    "## Кумулятивное среднее количество заказов на посетителей"
   ]
  },
  {
   "cell_type": "markdown",
   "id": "53b5bdcc",
   "metadata": {},
   "source": [
    "Посчитаем кумулятивное кол-во посетителей по группам"
   ]
  },
  {
   "cell_type": "code",
   "execution_count": 34,
   "id": "48220f6b",
   "metadata": {},
   "outputs": [],
   "source": [
    "visitors_agg = date_groups.apply(lambda x: visitors[np.logical_and(visitors['date'] <= x['date'], visitors['group'] == x['group'])]\\\n",
    ".agg({'date' : 'max', 'group' : 'max', 'visitors' : 'sum'}), axis=1).sort_values(by=['date','group'])"
   ]
  },
  {
   "cell_type": "code",
   "execution_count": 35,
   "id": "04dc0fcc",
   "metadata": {},
   "outputs": [
    {
     "data": {
      "text/html": [
       "<div>\n",
       "<style scoped>\n",
       "    .dataframe tbody tr th:only-of-type {\n",
       "        vertical-align: middle;\n",
       "    }\n",
       "\n",
       "    .dataframe tbody tr th {\n",
       "        vertical-align: top;\n",
       "    }\n",
       "\n",
       "    .dataframe thead th {\n",
       "        text-align: right;\n",
       "    }\n",
       "</style>\n",
       "<table border=\"1\" class=\"dataframe\">\n",
       "  <thead>\n",
       "    <tr style=\"text-align: right;\">\n",
       "      <th></th>\n",
       "      <th>date</th>\n",
       "      <th>group</th>\n",
       "      <th>visitors</th>\n",
       "    </tr>\n",
       "  </thead>\n",
       "  <tbody>\n",
       "    <tr>\n",
       "      <th>55</th>\n",
       "      <td>2019-08-01</td>\n",
       "      <td>A</td>\n",
       "      <td>719</td>\n",
       "    </tr>\n",
       "    <tr>\n",
       "      <th>66</th>\n",
       "      <td>2019-08-01</td>\n",
       "      <td>B</td>\n",
       "      <td>713</td>\n",
       "    </tr>\n",
       "    <tr>\n",
       "      <th>175</th>\n",
       "      <td>2019-08-02</td>\n",
       "      <td>A</td>\n",
       "      <td>1338</td>\n",
       "    </tr>\n",
       "    <tr>\n",
       "      <th>173</th>\n",
       "      <td>2019-08-02</td>\n",
       "      <td>B</td>\n",
       "      <td>1294</td>\n",
       "    </tr>\n",
       "    <tr>\n",
       "      <th>291</th>\n",
       "      <td>2019-08-03</td>\n",
       "      <td>A</td>\n",
       "      <td>1845</td>\n",
       "    </tr>\n",
       "    <tr>\n",
       "      <th>...</th>\n",
       "      <td>...</td>\n",
       "      <td>...</td>\n",
       "      <td>...</td>\n",
       "    </tr>\n",
       "    <tr>\n",
       "      <th>496</th>\n",
       "      <td>2019-08-29</td>\n",
       "      <td>B</td>\n",
       "      <td>17708</td>\n",
       "    </tr>\n",
       "    <tr>\n",
       "      <th>730</th>\n",
       "      <td>2019-08-30</td>\n",
       "      <td>A</td>\n",
       "      <td>18037</td>\n",
       "    </tr>\n",
       "    <tr>\n",
       "      <th>690</th>\n",
       "      <td>2019-08-30</td>\n",
       "      <td>B</td>\n",
       "      <td>18198</td>\n",
       "    </tr>\n",
       "    <tr>\n",
       "      <th>958</th>\n",
       "      <td>2019-08-31</td>\n",
       "      <td>A</td>\n",
       "      <td>18736</td>\n",
       "    </tr>\n",
       "    <tr>\n",
       "      <th>930</th>\n",
       "      <td>2019-08-31</td>\n",
       "      <td>B</td>\n",
       "      <td>18916</td>\n",
       "    </tr>\n",
       "  </tbody>\n",
       "</table>\n",
       "<p>62 rows × 3 columns</p>\n",
       "</div>"
      ],
      "text/plain": [
       "          date group  visitors\n",
       "55  2019-08-01     A       719\n",
       "66  2019-08-01     B       713\n",
       "175 2019-08-02     A      1338\n",
       "173 2019-08-02     B      1294\n",
       "291 2019-08-03     A      1845\n",
       "..         ...   ...       ...\n",
       "496 2019-08-29     B     17708\n",
       "730 2019-08-30     A     18037\n",
       "690 2019-08-30     B     18198\n",
       "958 2019-08-31     A     18736\n",
       "930 2019-08-31     B     18916\n",
       "\n",
       "[62 rows x 3 columns]"
      ]
     },
     "execution_count": 35,
     "metadata": {},
     "output_type": "execute_result"
    }
   ],
   "source": [
    "visitors_agg"
   ]
  },
  {
   "cell_type": "code",
   "execution_count": 36,
   "id": "7494e38f",
   "metadata": {},
   "outputs": [
    {
     "data": {
      "text/html": [
       "<div>\n",
       "<style scoped>\n",
       "    .dataframe tbody tr th:only-of-type {\n",
       "        vertical-align: middle;\n",
       "    }\n",
       "\n",
       "    .dataframe tbody tr th {\n",
       "        vertical-align: top;\n",
       "    }\n",
       "\n",
       "    .dataframe thead th {\n",
       "        text-align: right;\n",
       "    }\n",
       "</style>\n",
       "<table border=\"1\" class=\"dataframe\">\n",
       "  <thead>\n",
       "    <tr style=\"text-align: right;\">\n",
       "      <th></th>\n",
       "      <th>date</th>\n",
       "      <th>group</th>\n",
       "      <th>transactionId</th>\n",
       "      <th>visitorId</th>\n",
       "      <th>revenue</th>\n",
       "      <th>mean_costs</th>\n",
       "      <th>visitors</th>\n",
       "    </tr>\n",
       "  </thead>\n",
       "  <tbody>\n",
       "    <tr>\n",
       "      <th>0</th>\n",
       "      <td>2019-08-01</td>\n",
       "      <td>A</td>\n",
       "      <td>23</td>\n",
       "      <td>19</td>\n",
       "      <td>142779</td>\n",
       "      <td>6207.78</td>\n",
       "      <td>719</td>\n",
       "    </tr>\n",
       "    <tr>\n",
       "      <th>1</th>\n",
       "      <td>2019-08-01</td>\n",
       "      <td>B</td>\n",
       "      <td>17</td>\n",
       "      <td>17</td>\n",
       "      <td>59758</td>\n",
       "      <td>3515.18</td>\n",
       "      <td>713</td>\n",
       "    </tr>\n",
       "    <tr>\n",
       "      <th>2</th>\n",
       "      <td>2019-08-02</td>\n",
       "      <td>A</td>\n",
       "      <td>42</td>\n",
       "      <td>36</td>\n",
       "      <td>234381</td>\n",
       "      <td>5580.50</td>\n",
       "      <td>1338</td>\n",
       "    </tr>\n",
       "    <tr>\n",
       "      <th>3</th>\n",
       "      <td>2019-08-02</td>\n",
       "      <td>B</td>\n",
       "      <td>40</td>\n",
       "      <td>39</td>\n",
       "      <td>221801</td>\n",
       "      <td>5545.02</td>\n",
       "      <td>1294</td>\n",
       "    </tr>\n",
       "    <tr>\n",
       "      <th>4</th>\n",
       "      <td>2019-08-03</td>\n",
       "      <td>A</td>\n",
       "      <td>66</td>\n",
       "      <td>60</td>\n",
       "      <td>346854</td>\n",
       "      <td>5255.36</td>\n",
       "      <td>1845</td>\n",
       "    </tr>\n",
       "    <tr>\n",
       "      <th>...</th>\n",
       "      <td>...</td>\n",
       "      <td>...</td>\n",
       "      <td>...</td>\n",
       "      <td>...</td>\n",
       "      <td>...</td>\n",
       "      <td>...</td>\n",
       "      <td>...</td>\n",
       "    </tr>\n",
       "    <tr>\n",
       "      <th>57</th>\n",
       "      <td>2019-08-29</td>\n",
       "      <td>B</td>\n",
       "      <td>510</td>\n",
       "      <td>490</td>\n",
       "      <td>4746610</td>\n",
       "      <td>9307.08</td>\n",
       "      <td>17708</td>\n",
       "    </tr>\n",
       "    <tr>\n",
       "      <th>58</th>\n",
       "      <td>2019-08-30</td>\n",
       "      <td>A</td>\n",
       "      <td>460</td>\n",
       "      <td>437</td>\n",
       "      <td>3311413</td>\n",
       "      <td>7198.72</td>\n",
       "      <td>18037</td>\n",
       "    </tr>\n",
       "    <tr>\n",
       "      <th>59</th>\n",
       "      <td>2019-08-30</td>\n",
       "      <td>B</td>\n",
       "      <td>531</td>\n",
       "      <td>511</td>\n",
       "      <td>4955833</td>\n",
       "      <td>9333.02</td>\n",
       "      <td>18198</td>\n",
       "    </tr>\n",
       "    <tr>\n",
       "      <th>60</th>\n",
       "      <td>2019-08-31</td>\n",
       "      <td>A</td>\n",
       "      <td>468</td>\n",
       "      <td>445</td>\n",
       "      <td>3364656</td>\n",
       "      <td>7189.44</td>\n",
       "      <td>18736</td>\n",
       "    </tr>\n",
       "    <tr>\n",
       "      <th>61</th>\n",
       "      <td>2019-08-31</td>\n",
       "      <td>B</td>\n",
       "      <td>548</td>\n",
       "      <td>528</td>\n",
       "      <td>5068972</td>\n",
       "      <td>9249.95</td>\n",
       "      <td>18916</td>\n",
       "    </tr>\n",
       "  </tbody>\n",
       "</table>\n",
       "<p>62 rows × 7 columns</p>\n",
       "</div>"
      ],
      "text/plain": [
       "         date group  transactionId  visitorId  revenue  mean_costs  visitors\n",
       "0  2019-08-01     A             23         19   142779     6207.78       719\n",
       "1  2019-08-01     B             17         17    59758     3515.18       713\n",
       "2  2019-08-02     A             42         36   234381     5580.50      1338\n",
       "3  2019-08-02     B             40         39   221801     5545.02      1294\n",
       "4  2019-08-03     A             66         60   346854     5255.36      1845\n",
       "..        ...   ...            ...        ...      ...         ...       ...\n",
       "57 2019-08-29     B            510        490  4746610     9307.08     17708\n",
       "58 2019-08-30     A            460        437  3311413     7198.72     18037\n",
       "59 2019-08-30     B            531        511  4955833     9333.02     18198\n",
       "60 2019-08-31     A            468        445  3364656     7189.44     18736\n",
       "61 2019-08-31     B            548        528  5068972     9249.95     18916\n",
       "\n",
       "[62 rows x 7 columns]"
      ]
     },
     "execution_count": 36,
     "metadata": {},
     "output_type": "execute_result"
    }
   ],
   "source": [
    "data_agg = orders_agg.merge(visitors_agg, on=['date', 'group'])\n",
    "data_agg"
   ]
  },
  {
   "cell_type": "code",
   "execution_count": 37,
   "id": "ad5c2bd4",
   "metadata": {},
   "outputs": [],
   "source": [
    "cumulative_visitors_a = data_agg[data_agg.group == 'A'][['date', 'group', 'transactionId', 'visitors']]\n",
    "cumulative_visitors_b = data_agg[data_agg.group == 'B'][['date', 'group', 'transactionId', 'visitors']]"
   ]
  },
  {
   "cell_type": "code",
   "execution_count": 38,
   "id": "eece460b",
   "metadata": {},
   "outputs": [],
   "source": [
    "cumulative_visitors = cumulative_visitors_a.merge(cumulative_visitors_b, on='date', suffixes=['_a','_b']).iloc[:,[0,2,3,5,6]]"
   ]
  },
  {
   "cell_type": "code",
   "execution_count": 39,
   "id": "fc9c0160",
   "metadata": {},
   "outputs": [
    {
     "data": {
      "text/html": [
       "<div>\n",
       "<style scoped>\n",
       "    .dataframe tbody tr th:only-of-type {\n",
       "        vertical-align: middle;\n",
       "    }\n",
       "\n",
       "    .dataframe tbody tr th {\n",
       "        vertical-align: top;\n",
       "    }\n",
       "\n",
       "    .dataframe thead th {\n",
       "        text-align: right;\n",
       "    }\n",
       "</style>\n",
       "<table border=\"1\" class=\"dataframe\">\n",
       "  <thead>\n",
       "    <tr style=\"text-align: right;\">\n",
       "      <th></th>\n",
       "      <th>date</th>\n",
       "      <th>transactionId_a</th>\n",
       "      <th>visitors_a</th>\n",
       "      <th>transactionId_b</th>\n",
       "      <th>visitors_b</th>\n",
       "    </tr>\n",
       "  </thead>\n",
       "  <tbody>\n",
       "    <tr>\n",
       "      <th>0</th>\n",
       "      <td>2019-08-01</td>\n",
       "      <td>23</td>\n",
       "      <td>719</td>\n",
       "      <td>17</td>\n",
       "      <td>713</td>\n",
       "    </tr>\n",
       "    <tr>\n",
       "      <th>1</th>\n",
       "      <td>2019-08-02</td>\n",
       "      <td>42</td>\n",
       "      <td>1338</td>\n",
       "      <td>40</td>\n",
       "      <td>1294</td>\n",
       "    </tr>\n",
       "    <tr>\n",
       "      <th>2</th>\n",
       "      <td>2019-08-03</td>\n",
       "      <td>66</td>\n",
       "      <td>1845</td>\n",
       "      <td>54</td>\n",
       "      <td>1803</td>\n",
       "    </tr>\n",
       "    <tr>\n",
       "      <th>3</th>\n",
       "      <td>2019-08-04</td>\n",
       "      <td>77</td>\n",
       "      <td>2562</td>\n",
       "      <td>68</td>\n",
       "      <td>2573</td>\n",
       "    </tr>\n",
       "    <tr>\n",
       "      <th>4</th>\n",
       "      <td>2019-08-05</td>\n",
       "      <td>99</td>\n",
       "      <td>3318</td>\n",
       "      <td>89</td>\n",
       "      <td>3280</td>\n",
       "    </tr>\n",
       "  </tbody>\n",
       "</table>\n",
       "</div>"
      ],
      "text/plain": [
       "        date  transactionId_a  visitors_a  transactionId_b  visitors_b\n",
       "0 2019-08-01               23         719               17         713\n",
       "1 2019-08-02               42        1338               40        1294\n",
       "2 2019-08-03               66        1845               54        1803\n",
       "3 2019-08-04               77        2562               68        2573\n",
       "4 2019-08-05               99        3318               89        3280"
      ]
     },
     "execution_count": 39,
     "metadata": {},
     "output_type": "execute_result"
    }
   ],
   "source": [
    "cumulative_visitors.head()"
   ]
  },
  {
   "cell_type": "markdown",
   "id": "20d3d7b3",
   "metadata": {},
   "source": [
    "объединим данные по заказам с данными по посетителям"
   ]
  },
  {
   "cell_type": "code",
   "execution_count": 40,
   "id": "c1d951dc",
   "metadata": {},
   "outputs": [],
   "source": [
    "sum_data = cumulative_merged.merge(cumulative_visitors, on='date').iloc[:,[0,2,4,5,6,7,8]]"
   ]
  },
  {
   "cell_type": "code",
   "execution_count": 41,
   "id": "e945d95a",
   "metadata": {},
   "outputs": [
    {
     "data": {
      "text/html": [
       "<div>\n",
       "<style scoped>\n",
       "    .dataframe tbody tr th:only-of-type {\n",
       "        vertical-align: middle;\n",
       "    }\n",
       "\n",
       "    .dataframe tbody tr th {\n",
       "        vertical-align: top;\n",
       "    }\n",
       "\n",
       "    .dataframe thead th {\n",
       "        text-align: right;\n",
       "    }\n",
       "</style>\n",
       "<table border=\"1\" class=\"dataframe\">\n",
       "  <thead>\n",
       "    <tr style=\"text-align: right;\">\n",
       "      <th></th>\n",
       "      <th>date</th>\n",
       "      <th>mean_costs_a</th>\n",
       "      <th>mean_costs_b</th>\n",
       "      <th>transactionId_a</th>\n",
       "      <th>visitors_a</th>\n",
       "      <th>transactionId_b</th>\n",
       "      <th>visitors_b</th>\n",
       "    </tr>\n",
       "  </thead>\n",
       "  <tbody>\n",
       "    <tr>\n",
       "      <th>0</th>\n",
       "      <td>2019-08-01</td>\n",
       "      <td>6207.78</td>\n",
       "      <td>3515.18</td>\n",
       "      <td>23</td>\n",
       "      <td>719</td>\n",
       "      <td>17</td>\n",
       "      <td>713</td>\n",
       "    </tr>\n",
       "    <tr>\n",
       "      <th>1</th>\n",
       "      <td>2019-08-02</td>\n",
       "      <td>5580.50</td>\n",
       "      <td>5545.02</td>\n",
       "      <td>42</td>\n",
       "      <td>1338</td>\n",
       "      <td>40</td>\n",
       "      <td>1294</td>\n",
       "    </tr>\n",
       "    <tr>\n",
       "      <th>2</th>\n",
       "      <td>2019-08-03</td>\n",
       "      <td>5255.36</td>\n",
       "      <td>5349.07</td>\n",
       "      <td>66</td>\n",
       "      <td>1845</td>\n",
       "      <td>54</td>\n",
       "      <td>1803</td>\n",
       "    </tr>\n",
       "    <tr>\n",
       "      <th>3</th>\n",
       "      <td>2019-08-04</td>\n",
       "      <td>5039.35</td>\n",
       "      <td>5672.65</td>\n",
       "      <td>77</td>\n",
       "      <td>2562</td>\n",
       "      <td>68</td>\n",
       "      <td>2573</td>\n",
       "    </tr>\n",
       "    <tr>\n",
       "      <th>4</th>\n",
       "      <td>2019-08-05</td>\n",
       "      <td>4792.05</td>\n",
       "      <td>5344.36</td>\n",
       "      <td>99</td>\n",
       "      <td>3318</td>\n",
       "      <td>89</td>\n",
       "      <td>3280</td>\n",
       "    </tr>\n",
       "  </tbody>\n",
       "</table>\n",
       "</div>"
      ],
      "text/plain": [
       "        date  mean_costs_a  mean_costs_b  transactionId_a  visitors_a  \\\n",
       "0 2019-08-01       6207.78       3515.18               23         719   \n",
       "1 2019-08-02       5580.50       5545.02               42        1338   \n",
       "2 2019-08-03       5255.36       5349.07               66        1845   \n",
       "3 2019-08-04       5039.35       5672.65               77        2562   \n",
       "4 2019-08-05       4792.05       5344.36               99        3318   \n",
       "\n",
       "   transactionId_b  visitors_b  \n",
       "0               17         713  \n",
       "1               40        1294  \n",
       "2               54        1803  \n",
       "3               68        2573  \n",
       "4               89        3280  "
      ]
     },
     "execution_count": 41,
     "metadata": {},
     "output_type": "execute_result"
    }
   ],
   "source": [
    "sum_data.head()"
   ]
  },
  {
   "cell_type": "markdown",
   "id": "abc7370c",
   "metadata": {},
   "source": [
    "Построим график кумулятивного среднего кол-ва заказов на посетителя по группам"
   ]
  },
  {
   "cell_type": "code",
   "execution_count": 42,
   "id": "a0d52957",
   "metadata": {
    "scrolled": true
   },
   "outputs": [
    {
     "data": {
      "image/png": "[encoded data removed]",
      "text/plain": [
       "<Figure size 864x864 with 1 Axes>"
      ]
     },
     "metadata": {
      "needs_background": "light"
     },
     "output_type": "display_data"
    }
   ],
   "source": [
    "plt.figure(figsize=(12,12))\n",
    "plt.plot(sum_data.date, sum_data.transactionId_a/sum_data.visitors_a, label = 'A')\n",
    "plt.plot(sum_data.date, sum_data.transactionId_b/sum_data.visitors_b, label = 'B')\n",
    "plt.legend()\n",
    "plt.title('Кумулятивное среднее кол-во заказов на посетителя')\n",
    "plt.xlabel('Дата')\n",
    "plt.ylabel('Кумулятивное среднее кол-во заказов на посетителя')\n",
    "plt.show()"
   ]
  },
  {
   "cell_type": "markdown",
   "id": "e193a2a2",
   "metadata": {},
   "source": [
    "## Посчитаем относительное изменение кумулятивного среднего чека"
   ]
  },
  {
   "cell_type": "code",
   "execution_count": 43,
   "id": "550aebc4",
   "metadata": {
    "scrolled": false
   },
   "outputs": [
    {
     "data": {
      "image/png": "[encoded data removed]",
      "text/plain": [
       "<Figure size 720x720 with 1 Axes>"
      ]
     },
     "metadata": {
      "needs_background": "light"
     },
     "output_type": "display_data"
    }
   ],
   "source": [
    "plt.figure(figsize=(10,10))\n",
    "plt.plot(sum_data.date, ((sum_data.transactionId_b/sum_data.visitors_b) / (sum_data.transactionId_a/sum_data.visitors_a)) - 1)\n",
    "plt.title('Относительное изменение кумулятивного среднего чека')\n",
    "plt.xlabel('Дата')\n",
    "plt.ylabel('относительное изменение кумулятивного среднего чека')\n",
    "plt.axhline(0, color='black', linestyle='--')\n",
    "plt.show()"
   ]
  },
  {
   "cell_type": "markdown",
   "id": "ffc25978",
   "metadata": {},
   "source": [
    "Как видно на графике большую часть времени средний чек группы В больше чем средний чек группы А"
   ]
  },
  {
   "cell_type": "markdown",
   "id": "db5de83a",
   "metadata": {},
   "source": [
    "## Количество заказов на пользователя"
   ]
  },
  {
   "cell_type": "code",
   "execution_count": 44,
   "id": "13994a82",
   "metadata": {},
   "outputs": [],
   "source": [
    "count_orders = orders.groupby('visitorId', as_index=False)['transactionId'].nunique()"
   ]
  },
  {
   "cell_type": "code",
   "execution_count": 45,
   "id": "cb607e7d",
   "metadata": {},
   "outputs": [
    {
     "data": {
      "text/html": [
       "<div>\n",
       "<style scoped>\n",
       "    .dataframe tbody tr th:only-of-type {\n",
       "        vertical-align: middle;\n",
       "    }\n",
       "\n",
       "    .dataframe tbody tr th {\n",
       "        vertical-align: top;\n",
       "    }\n",
       "\n",
       "    .dataframe thead th {\n",
       "        text-align: right;\n",
       "    }\n",
       "</style>\n",
       "<table border=\"1\" class=\"dataframe\">\n",
       "  <thead>\n",
       "    <tr style=\"text-align: right;\">\n",
       "      <th></th>\n",
       "      <th>visitorId</th>\n",
       "      <th>transactionId</th>\n",
       "    </tr>\n",
       "  </thead>\n",
       "  <tbody>\n",
       "    <tr>\n",
       "      <th>0</th>\n",
       "      <td>5114589</td>\n",
       "      <td>1</td>\n",
       "    </tr>\n",
       "    <tr>\n",
       "      <th>1</th>\n",
       "      <td>6958315</td>\n",
       "      <td>1</td>\n",
       "    </tr>\n",
       "    <tr>\n",
       "      <th>2</th>\n",
       "      <td>11685486</td>\n",
       "      <td>1</td>\n",
       "    </tr>\n",
       "    <tr>\n",
       "      <th>3</th>\n",
       "      <td>39475350</td>\n",
       "      <td>1</td>\n",
       "    </tr>\n",
       "    <tr>\n",
       "      <th>4</th>\n",
       "      <td>47206413</td>\n",
       "      <td>1</td>\n",
       "    </tr>\n",
       "  </tbody>\n",
       "</table>\n",
       "</div>"
      ],
      "text/plain": [
       "   visitorId  transactionId\n",
       "0    5114589              1\n",
       "1    6958315              1\n",
       "2   11685486              1\n",
       "3   39475350              1\n",
       "4   47206413              1"
      ]
     },
     "execution_count": 45,
     "metadata": {},
     "output_type": "execute_result"
    }
   ],
   "source": [
    "count_orders.head()"
   ]
  },
  {
   "cell_type": "code",
   "execution_count": 46,
   "id": "3d13d738",
   "metadata": {},
   "outputs": [
    {
     "data": {
      "image/png": "[encoded data removed]",
      "text/plain": [
       "<Figure size 864x648 with 1 Axes>"
      ]
     },
     "metadata": {
      "needs_background": "light"
     },
     "output_type": "display_data"
    }
   ],
   "source": [
    "plt.figure(figsize=(12,9))\n",
    "sns.scatterplot(data = count_orders, x=count_orders.visitorId, y=count_orders.transactionId )\n",
    "plt.title('Распределение количества заказов на пользователя')\n",
    "plt.xlabel('id пользователя')\n",
    "plt.ylabel('Количество заказов на пользователя')\n",
    "plt.show()"
   ]
  },
  {
   "cell_type": "markdown",
   "id": "e27a2c91",
   "metadata": {},
   "source": [
    "По графику видно, что большинство пользователей совершило одну покупку, немало пользователей совершили две и три покупки, большее кол-во покупок - редкость"
   ]
  },
  {
   "cell_type": "markdown",
   "id": "f7b4429c",
   "metadata": {},
   "source": [
    "## Аномальные значения в кол-ве заказов на пользователя"
   ]
  },
  {
   "cell_type": "markdown",
   "id": "14301b4c",
   "metadata": {},
   "source": [
    "Посчитаем перцентили для кол-ва заказов на пользователя"
   ]
  },
  {
   "cell_type": "code",
   "execution_count": 47,
   "id": "c5cf68ad",
   "metadata": {},
   "outputs": [
    {
     "data": {
      "text/plain": [
       "array([1., 2.])"
      ]
     },
     "execution_count": 47,
     "metadata": {},
     "output_type": "execute_result"
    }
   ],
   "source": [
    "np.percentile(count_orders.transactionId, [95,99])"
   ]
  },
  {
   "cell_type": "markdown",
   "id": "bdf7928b",
   "metadata": {},
   "source": [
    "95-й перцентиль равен двум, 99-й равен 4. Будем считать выбросами кол-во заказов больше двух."
   ]
  },
  {
   "cell_type": "markdown",
   "id": "fb0c627b",
   "metadata": {},
   "source": [
    "## График стоимости заказов"
   ]
  },
  {
   "cell_type": "code",
   "execution_count": 48,
   "id": "e8282bd5",
   "metadata": {
    "scrolled": false
   },
   "outputs": [
    {
     "data": {
      "image/png": "[encoded data removed]",
      "text/plain": [
       "<Figure size 864x648 with 1 Axes>"
      ]
     },
     "metadata": {
      "needs_background": "light"
     },
     "output_type": "display_data"
    }
   ],
   "source": [
    "plt.figure(figsize=(12,9))\n",
    "plt.ylim(0,100000)\n",
    "sns.scatterplot(data = orders, x = orders.visitorId, y = orders.revenue)\n",
    "plt.title('Распределение стоимости заказа')\n",
    "plt.xlabel('id заказа')\n",
    "plt.ylabel('Сумма заказа')\n",
    "plt.show()"
   ]
  },
  {
   "cell_type": "markdown",
   "id": "ea8b9e96",
   "metadata": {},
   "source": [
    "Судя по графику большинство значений лежит в пределах 25000. Более дорогие покупки - редкость"
   ]
  },
  {
   "cell_type": "markdown",
   "id": "47962f5a",
   "metadata": {},
   "source": [
    "## Аномалии в стоимости заказов"
   ]
  },
  {
   "cell_type": "code",
   "execution_count": 49,
   "id": "108caae4",
   "metadata": {},
   "outputs": [
    {
     "data": {
      "text/plain": [
       "array([26785., 53904.])"
      ]
     },
     "execution_count": 49,
     "metadata": {},
     "output_type": "execute_result"
    }
   ],
   "source": [
    "np.percentile(orders.revenue, [95,99])"
   ]
  },
  {
   "cell_type": "markdown",
   "id": "8257ddee",
   "metadata": {},
   "source": [
    "95-й перцентиль равен 28000, 99-й перцентиль равен 58233.2. Будем считать выбросами стоимость покупки больше 28000"
   ]
  },
  {
   "cell_type": "markdown",
   "id": "32638d56",
   "metadata": {},
   "source": [
    "## Статистическая значимость различий в среднем количестве заказов на посетителя между группами по сырым данным"
   ]
  },
  {
   "cell_type": "markdown",
   "id": "c55f9e12",
   "metadata": {},
   "source": [
    "Нулевая гипотеза: среднее кол-во заказов на пользователя для группы А и В не отличаются.  Альтернативная гипотеза: среднее кол-во заказов на пользователя для группы А и В отличаются. Уровень значимости - а=0,05"
   ]
  },
  {
   "cell_type": "code",
   "execution_count": 50,
   "id": "a333c9da",
   "metadata": {
    "scrolled": false
   },
   "outputs": [
    {
     "data": {
      "text/html": [
       "<div>\n",
       "<style scoped>\n",
       "    .dataframe tbody tr th:only-of-type {\n",
       "        vertical-align: middle;\n",
       "    }\n",
       "\n",
       "    .dataframe tbody tr th {\n",
       "        vertical-align: top;\n",
       "    }\n",
       "\n",
       "    .dataframe thead th {\n",
       "        text-align: right;\n",
       "    }\n",
       "</style>\n",
       "<table border=\"1\" class=\"dataframe\">\n",
       "  <thead>\n",
       "    <tr style=\"text-align: right;\">\n",
       "      <th></th>\n",
       "      <th>date</th>\n",
       "      <th>group</th>\n",
       "      <th>visitors</th>\n",
       "    </tr>\n",
       "  </thead>\n",
       "  <tbody>\n",
       "    <tr>\n",
       "      <th>0</th>\n",
       "      <td>2019-08-01</td>\n",
       "      <td>A</td>\n",
       "      <td>719</td>\n",
       "    </tr>\n",
       "    <tr>\n",
       "      <th>1</th>\n",
       "      <td>2019-08-02</td>\n",
       "      <td>A</td>\n",
       "      <td>619</td>\n",
       "    </tr>\n",
       "    <tr>\n",
       "      <th>2</th>\n",
       "      <td>2019-08-03</td>\n",
       "      <td>A</td>\n",
       "      <td>507</td>\n",
       "    </tr>\n",
       "    <tr>\n",
       "      <th>3</th>\n",
       "      <td>2019-08-04</td>\n",
       "      <td>A</td>\n",
       "      <td>717</td>\n",
       "    </tr>\n",
       "    <tr>\n",
       "      <th>4</th>\n",
       "      <td>2019-08-05</td>\n",
       "      <td>A</td>\n",
       "      <td>756</td>\n",
       "    </tr>\n",
       "    <tr>\n",
       "      <th>...</th>\n",
       "      <td>...</td>\n",
       "      <td>...</td>\n",
       "      <td>...</td>\n",
       "    </tr>\n",
       "    <tr>\n",
       "      <th>57</th>\n",
       "      <td>2019-08-27</td>\n",
       "      <td>B</td>\n",
       "      <td>720</td>\n",
       "    </tr>\n",
       "    <tr>\n",
       "      <th>58</th>\n",
       "      <td>2019-08-28</td>\n",
       "      <td>B</td>\n",
       "      <td>654</td>\n",
       "    </tr>\n",
       "    <tr>\n",
       "      <th>59</th>\n",
       "      <td>2019-08-29</td>\n",
       "      <td>B</td>\n",
       "      <td>531</td>\n",
       "    </tr>\n",
       "    <tr>\n",
       "      <th>60</th>\n",
       "      <td>2019-08-30</td>\n",
       "      <td>B</td>\n",
       "      <td>490</td>\n",
       "    </tr>\n",
       "    <tr>\n",
       "      <th>61</th>\n",
       "      <td>2019-08-31</td>\n",
       "      <td>B</td>\n",
       "      <td>718</td>\n",
       "    </tr>\n",
       "  </tbody>\n",
       "</table>\n",
       "<p>62 rows × 3 columns</p>\n",
       "</div>"
      ],
      "text/plain": [
       "         date group  visitors\n",
       "0  2019-08-01     A       719\n",
       "1  2019-08-02     A       619\n",
       "2  2019-08-03     A       507\n",
       "3  2019-08-04     A       717\n",
       "4  2019-08-05     A       756\n",
       "..        ...   ...       ...\n",
       "57 2019-08-27     B       720\n",
       "58 2019-08-28     B       654\n",
       "59 2019-08-29     B       531\n",
       "60 2019-08-30     B       490\n",
       "61 2019-08-31     B       718\n",
       "\n",
       "[62 rows x 3 columns]"
      ]
     },
     "execution_count": 50,
     "metadata": {},
     "output_type": "execute_result"
    }
   ],
   "source": [
    "visitors"
   ]
  },
  {
   "cell_type": "markdown",
   "id": "4b774919",
   "metadata": {},
   "source": [
    "Создадим таблицу для A/B теста. Посчитаем кол-во заказов для каждого покупателя и добавим к ним кол-во посетителей со значением 0."
   ]
  },
  {
   "cell_type": "code",
   "execution_count": 51,
   "id": "04b5993b",
   "metadata": {},
   "outputs": [],
   "source": [
    "orders_samp_a = orders[orders.group == 'A'].groupby('visitorId', as_index=False)['transactionId'].nunique()\n",
    "orders_samp_b = orders[orders.group == 'B'].groupby('visitorId', as_index=False)['transactionId'].nunique()\n",
    "orders_samp_a.columns = ['visitor', 'orders']\n",
    "orders_samp_b.columns = ['visitor', 'orders']"
   ]
  },
  {
   "cell_type": "code",
   "execution_count": 52,
   "id": "fab81bcf",
   "metadata": {},
   "outputs": [],
   "source": [
    "sample_a = pd.concat([orders_samp_a['orders'], pd.Series(0, \n",
    "                                               index=np.arange(visitors[visitors.group == 'A'].visitors.sum() - len(orders_samp_a.orders)),\n",
    "                                               name='orders')], \n",
    "                     axis=0)"
   ]
  },
  {
   "cell_type": "code",
   "execution_count": 53,
   "id": "c9c7940a",
   "metadata": {},
   "outputs": [],
   "source": [
    "sample_b = pd.concat([orders_samp_b['orders'], pd.Series(0, \n",
    "                                               index=np.arange(visitors[visitors.group == 'B'].visitors.sum() - len(orders_samp_b.orders)),\n",
    "                                               name='orders')], \n",
    "                     axis=0)"
   ]
  },
  {
   "cell_type": "code",
   "execution_count": 54,
   "id": "6e782f2c",
   "metadata": {},
   "outputs": [
    {
     "data": {
      "text/plain": [
       "0.011018084110014696"
      ]
     },
     "execution_count": 54,
     "metadata": {},
     "output_type": "execute_result"
    }
   ],
   "source": [
    "st.mannwhitneyu(sample_a, sample_b)[1]"
   ]
  },
  {
   "cell_type": "code",
   "execution_count": 55,
   "id": "650f560c",
   "metadata": {
    "scrolled": true
   },
   "outputs": [
    {
     "data": {
      "text/plain": [
       "0.02497865072587532"
      ]
     },
     "execution_count": 55,
     "metadata": {},
     "output_type": "execute_result"
    }
   ],
   "source": [
    "sample_a.mean()"
   ]
  },
  {
   "cell_type": "code",
   "execution_count": 56,
   "id": "2fb35b7d",
   "metadata": {},
   "outputs": [
    {
     "data": {
      "text/plain": [
       "0.02897018397124128"
      ]
     },
     "execution_count": 56,
     "metadata": {},
     "output_type": "execute_result"
    }
   ],
   "source": [
    "sample_b.mean()"
   ]
  },
  {
   "cell_type": "code",
   "execution_count": 57,
   "id": "bfa9ef48",
   "metadata": {},
   "outputs": [
    {
     "data": {
      "text/plain": [
       "0.1597977924896936"
      ]
     },
     "execution_count": 57,
     "metadata": {},
     "output_type": "execute_result"
    }
   ],
   "source": [
    "sample_b.mean() / sample_a.mean() - 1"
   ]
  },
  {
   "cell_type": "markdown",
   "id": "ced5162a",
   "metadata": {},
   "source": [
    "По сырым данным можно сказать, что в группе В среднее кол-во заказов на пользователя на 15,9% больше чем в группе А. Разница статистически значима(pvalue=0.01, что позволяет отвергнуть нулевую гипотезу). Показатель для группы А 0.024, для группы В 0.029"
   ]
  },
  {
   "cell_type": "markdown",
   "id": "33f27ec8",
   "metadata": {},
   "source": [
    "## Статистическая значимость различий в среднем чеке между группами по сырым данным"
   ]
  },
  {
   "cell_type": "markdown",
   "id": "a71d81bd",
   "metadata": {},
   "source": [
    "Нулевая гипотеза: средний чек для группы А и В не отличаются.  Альтернативная гипотеза: средний чек для группы А и В отличаются Уровень значимости - а=0,05"
   ]
  },
  {
   "cell_type": "code",
   "execution_count": 58,
   "id": "1290e342",
   "metadata": {
    "scrolled": true
   },
   "outputs": [
    {
     "data": {
      "text/plain": [
       "MannwhitneyuResult(statistic=129236.5, pvalue=0.8294908998149533)"
      ]
     },
     "execution_count": 58,
     "metadata": {},
     "output_type": "execute_result"
    }
   ],
   "source": [
    "st.mannwhitneyu(orders[orders.group == 'A'].revenue, orders[orders.group == 'B'].revenue) "
   ]
  },
  {
   "cell_type": "code",
   "execution_count": 59,
   "id": "a55445e4",
   "metadata": {},
   "outputs": [
    {
     "data": {
      "text/plain": [
       "9249.94890510949"
      ]
     },
     "execution_count": 59,
     "metadata": {},
     "output_type": "execute_result"
    }
   ],
   "source": [
    "orders[orders.group == 'B'].revenue.mean()"
   ]
  },
  {
   "cell_type": "code",
   "execution_count": 60,
   "id": "e54e2e2b",
   "metadata": {},
   "outputs": [
    {
     "data": {
      "text/plain": [
       "7189.4358974358975"
      ]
     },
     "execution_count": 60,
     "metadata": {},
     "output_type": "execute_result"
    }
   ],
   "source": [
    "orders[orders.group == 'A'].revenue.mean()"
   ]
  },
  {
   "cell_type": "code",
   "execution_count": 61,
   "id": "2ec67a84",
   "metadata": {},
   "outputs": [
    {
     "data": {
      "text/plain": [
       "0.28660287636871096"
      ]
     },
     "execution_count": 61,
     "metadata": {},
     "output_type": "execute_result"
    }
   ],
   "source": [
    "orders[orders.group == 'B'].revenue.mean() / orders[orders.group == 'A'].revenue.mean() - 1"
   ]
  },
  {
   "cell_type": "markdown",
   "id": "8409cde0",
   "metadata": {},
   "source": [
    "По сырым данным можно сказать, что в группе В средний чек на 28,6% больше чем в группе А. Однако эта разница статистически не значима(pvalue=0.83, что не позволяет отвергнуть нулевую гипотезу). Показатель для группы А 7189, для группы В 9250. Такая разница с отсутствием статистичекской значимости говорит о влиянии выбросов"
   ]
  },
  {
   "cell_type": "markdown",
   "id": "1c4994f0",
   "metadata": {},
   "source": [
    "## Статистическая значимость различий в среднем количестве заказов на посетителя между группами по подготовленным данным"
   ]
  },
  {
   "cell_type": "markdown",
   "id": "5f84096c",
   "metadata": {},
   "source": [
    "Нулевая гипотеза: среднее кол-во заказов на пользователя для группы А и В не отличаются.  Альтернативная гипотеза: среднее кол-во заказов на пользователя для группы А и В отличаются. Уровень значимости - а=0,05"
   ]
  },
  {
   "cell_type": "markdown",
   "id": "5fbbaecd",
   "metadata": {},
   "source": [
    "Создадим список \"аномальных клиентов\"."
   ]
  },
  {
   "cell_type": "code",
   "execution_count": 62,
   "id": "610e0af9",
   "metadata": {
    "scrolled": false
   },
   "outputs": [
    {
     "data": {
      "text/plain": [
       "73     2947100995\n",
       "77      787824685\n",
       "78     3288820196\n",
       "131    2254586615\n",
       "137    1211585711\n",
       "Name: visitorId, dtype: int64"
      ]
     },
     "execution_count": 62,
     "metadata": {},
     "output_type": "execute_result"
    }
   ],
   "source": [
    "anomaly_id = pd.concat([orders[orders.revenue > 28000].visitorId,\n",
    "                        orders.groupby('visitorId', as_index=False)['transactionId'].nunique().query(\"transactionId > 2\").visitorId],\n",
    "                       axis=0).drop_duplicates()\n",
    "anomaly_id.head()"
   ]
  },
  {
   "cell_type": "code",
   "execution_count": 63,
   "id": "1d8de7ab",
   "metadata": {},
   "outputs": [
    {
     "data": {
      "text/plain": [
       "55"
      ]
     },
     "execution_count": 63,
     "metadata": {},
     "output_type": "execute_result"
    }
   ],
   "source": [
    "anomaly_id.shape[0]"
   ]
  },
  {
   "cell_type": "markdown",
   "id": "5b3fe88b",
   "metadata": {},
   "source": [
    "Всего 55 \"аномальных клиента\""
   ]
  },
  {
   "cell_type": "markdown",
   "id": "f43f4c27",
   "metadata": {},
   "source": [
    "Подготовим данные для А/В теста"
   ]
  },
  {
   "cell_type": "code",
   "execution_count": 64,
   "id": "7bcff16b",
   "metadata": {},
   "outputs": [],
   "source": [
    "orders_samp_a = orders.query(\"group == 'A' and visitorId not in @anomaly_id\")\\\n",
    ".groupby('visitorId', as_index=False)['transactionId'].nunique()\n",
    "orders_samp_b = orders.query(\"group == 'B' and visitorId not in @anomaly_id\")\\\n",
    ".groupby('visitorId', as_index=False)['transactionId'].nunique()\n",
    "orders_samp_a.columns = ['visitor', 'orders']\n",
    "orders_samp_b.columns = ['visitor', 'orders']"
   ]
  },
  {
   "cell_type": "code",
   "execution_count": 65,
   "id": "733f80a5",
   "metadata": {
    "scrolled": true
   },
   "outputs": [],
   "source": [
    "sample_a = pd.concat([orders_samp_a['orders'], pd.Series(0, \n",
    "                                               index=np.arange(visitors[visitors.group == 'A'].visitors.sum() - len(orders_samp_a.orders)),\n",
    "                                               name='orders')], \n",
    "                     axis=0)"
   ]
  },
  {
   "cell_type": "code",
   "execution_count": 66,
   "id": "58d90950",
   "metadata": {},
   "outputs": [],
   "source": [
    "sample_b = pd.concat([orders_samp_b['orders'], pd.Series(0, \n",
    "                                               index=np.arange(visitors[visitors.group == 'B'].visitors.sum() - len(orders_samp_b.orders)),\n",
    "                                               name='orders')], \n",
    "                     axis=0)"
   ]
  },
  {
   "cell_type": "markdown",
   "id": "446de2b6",
   "metadata": {},
   "source": [
    "Посчитаем значимость различий в группах по отфильтрованым показателям используя критерий Манна- Уитни"
   ]
  },
  {
   "cell_type": "code",
   "execution_count": 67,
   "id": "cac2bd70",
   "metadata": {
    "scrolled": true
   },
   "outputs": [
    {
     "data": {
      "text/plain": [
       "0.009471250141377159"
      ]
     },
     "execution_count": 67,
     "metadata": {},
     "output_type": "execute_result"
    }
   ],
   "source": [
    "st.mannwhitneyu(sample_a, sample_b)[1]"
   ]
  },
  {
   "cell_type": "markdown",
   "id": "d74a0c31",
   "metadata": {},
   "source": [
    "Среднее кол-во заказов в группе А"
   ]
  },
  {
   "cell_type": "code",
   "execution_count": 68,
   "id": "bcbd1f31",
   "metadata": {
    "scrolled": true
   },
   "outputs": [
    {
     "data": {
      "text/plain": [
       "0.022950469684030743"
      ]
     },
     "execution_count": 68,
     "metadata": {},
     "output_type": "execute_result"
    }
   ],
   "source": [
    "sample_a.mean()"
   ]
  },
  {
   "cell_type": "markdown",
   "id": "e6fe3d94",
   "metadata": {},
   "source": [
    "Среднее кол-во заказов в группе В"
   ]
  },
  {
   "cell_type": "code",
   "execution_count": 69,
   "id": "351af7a4",
   "metadata": {},
   "outputs": [
    {
     "data": {
      "text/plain": [
       "0.02727849439627828"
      ]
     },
     "execution_count": 69,
     "metadata": {},
     "output_type": "execute_result"
    }
   ],
   "source": [
    "sample_b.mean()"
   ]
  },
  {
   "cell_type": "code",
   "execution_count": 70,
   "id": "920139cf",
   "metadata": {},
   "outputs": [
    {
     "data": {
      "text/plain": [
       "0.1885810953689997"
      ]
     },
     "execution_count": 70,
     "metadata": {},
     "output_type": "execute_result"
    }
   ],
   "source": [
    "sample_b.mean() / sample_a.mean() - 1"
   ]
  },
  {
   "cell_type": "markdown",
   "id": "af27e3f2",
   "metadata": {},
   "source": [
    "По подготовленным данным можно сказать, что в группе В среднее кол-во заказов на пользователя на 18.9% больше чем в группе А. Разница статистически значима(pvalue=0.009, что позволяет отвергнуть нулевую гипотезу). Показатель для группы А0.023, для группы В 0.027"
   ]
  },
  {
   "cell_type": "markdown",
   "id": "c68110fa",
   "metadata": {},
   "source": [
    "## Статистическая значимость различий в среднем чеке между группами по подготовленным данным"
   ]
  },
  {
   "cell_type": "markdown",
   "id": "8278e69e",
   "metadata": {},
   "source": [
    "Нулевая гипотеза: средний чек для группы А и В не отличаются. Альтернативная гипотеза: средний чек для группы А и В отличаются Уровень значимости - а=0,05"
   ]
  },
  {
   "cell_type": "code",
   "execution_count": 71,
   "id": "57b85860",
   "metadata": {},
   "outputs": [
    {
     "data": {
      "text/html": [
       "<div>\n",
       "<style scoped>\n",
       "    .dataframe tbody tr th:only-of-type {\n",
       "        vertical-align: middle;\n",
       "    }\n",
       "\n",
       "    .dataframe tbody tr th {\n",
       "        vertical-align: top;\n",
       "    }\n",
       "\n",
       "    .dataframe thead th {\n",
       "        text-align: right;\n",
       "    }\n",
       "</style>\n",
       "<table border=\"1\" class=\"dataframe\">\n",
       "  <thead>\n",
       "    <tr style=\"text-align: right;\">\n",
       "      <th></th>\n",
       "      <th>transactionId</th>\n",
       "      <th>visitorId</th>\n",
       "      <th>date</th>\n",
       "      <th>revenue</th>\n",
       "      <th>group</th>\n",
       "    </tr>\n",
       "  </thead>\n",
       "  <tbody>\n",
       "    <tr>\n",
       "      <th>7</th>\n",
       "      <td>2626614568</td>\n",
       "      <td>78758296</td>\n",
       "      <td>2019-08-15</td>\n",
       "      <td>1044</td>\n",
       "      <td>A</td>\n",
       "    </tr>\n",
       "    <tr>\n",
       "      <th>8</th>\n",
       "      <td>1576988021</td>\n",
       "      <td>295230930</td>\n",
       "      <td>2019-08-15</td>\n",
       "      <td>13710</td>\n",
       "      <td>A</td>\n",
       "    </tr>\n",
       "    <tr>\n",
       "      <th>10</th>\n",
       "      <td>3649131742</td>\n",
       "      <td>879864040</td>\n",
       "      <td>2019-08-15</td>\n",
       "      <td>4008</td>\n",
       "      <td>A</td>\n",
       "    </tr>\n",
       "    <tr>\n",
       "      <th>12</th>\n",
       "      <td>2809384911</td>\n",
       "      <td>3213223594</td>\n",
       "      <td>2019-08-15</td>\n",
       "      <td>7370</td>\n",
       "      <td>A</td>\n",
       "    </tr>\n",
       "    <tr>\n",
       "      <th>14</th>\n",
       "      <td>3859315276</td>\n",
       "      <td>1565034404</td>\n",
       "      <td>2019-08-15</td>\n",
       "      <td>10980</td>\n",
       "      <td>A</td>\n",
       "    </tr>\n",
       "    <tr>\n",
       "      <th>...</th>\n",
       "      <td>...</td>\n",
       "      <td>...</td>\n",
       "      <td>...</td>\n",
       "      <td>...</td>\n",
       "      <td>...</td>\n",
       "    </tr>\n",
       "    <tr>\n",
       "      <th>1185</th>\n",
       "      <td>948555526</td>\n",
       "      <td>2710193528</td>\n",
       "      <td>2019-08-14</td>\n",
       "      <td>730</td>\n",
       "      <td>A</td>\n",
       "    </tr>\n",
       "    <tr>\n",
       "      <th>1187</th>\n",
       "      <td>2274188238</td>\n",
       "      <td>132143192</td>\n",
       "      <td>2019-08-14</td>\n",
       "      <td>750</td>\n",
       "      <td>A</td>\n",
       "    </tr>\n",
       "    <tr>\n",
       "      <th>1188</th>\n",
       "      <td>1692103379</td>\n",
       "      <td>1022829655</td>\n",
       "      <td>2019-08-14</td>\n",
       "      <td>112</td>\n",
       "      <td>A</td>\n",
       "    </tr>\n",
       "    <tr>\n",
       "      <th>1193</th>\n",
       "      <td>2203539145</td>\n",
       "      <td>370388673</td>\n",
       "      <td>2019-08-14</td>\n",
       "      <td>3190</td>\n",
       "      <td>A</td>\n",
       "    </tr>\n",
       "    <tr>\n",
       "      <th>1194</th>\n",
       "      <td>1807773912</td>\n",
       "      <td>573423106</td>\n",
       "      <td>2019-08-14</td>\n",
       "      <td>10550</td>\n",
       "      <td>A</td>\n",
       "    </tr>\n",
       "  </tbody>\n",
       "</table>\n",
       "<p>430 rows × 5 columns</p>\n",
       "</div>"
      ],
      "text/plain": [
       "      transactionId   visitorId       date  revenue group\n",
       "7        2626614568    78758296 2019-08-15     1044     A\n",
       "8        1576988021   295230930 2019-08-15    13710     A\n",
       "10       3649131742   879864040 2019-08-15     4008     A\n",
       "12       2809384911  3213223594 2019-08-15     7370     A\n",
       "14       3859315276  1565034404 2019-08-15    10980     A\n",
       "...             ...         ...        ...      ...   ...\n",
       "1185      948555526  2710193528 2019-08-14      730     A\n",
       "1187     2274188238   132143192 2019-08-14      750     A\n",
       "1188     1692103379  1022829655 2019-08-14      112     A\n",
       "1193     2203539145   370388673 2019-08-14     3190     A\n",
       "1194     1807773912   573423106 2019-08-14    10550     A\n",
       "\n",
       "[430 rows x 5 columns]"
      ]
     },
     "execution_count": 71,
     "metadata": {},
     "output_type": "execute_result"
    }
   ],
   "source": [
    "orders.query(\"group == 'A' and visitorId not in @anomaly_id\")"
   ]
  },
  {
   "cell_type": "code",
   "execution_count": 72,
   "id": "f251a032",
   "metadata": {
    "scrolled": true
   },
   "outputs": [
    {
     "data": {
      "text/plain": [
       "0.7616880562749192"
      ]
     },
     "execution_count": 72,
     "metadata": {},
     "output_type": "execute_result"
    }
   ],
   "source": [
    "st.mannwhitneyu(orders.query(\"group == 'A' and visitorId not in @anomaly_id\").revenue, \n",
    "                orders.query(\"group == 'B' and visitorId not in @anomaly_id\").revenue)[1]"
   ]
  },
  {
   "cell_type": "code",
   "execution_count": 73,
   "id": "62c663ba",
   "metadata": {},
   "outputs": [
    {
     "data": {
      "text/plain": [
       "5102.511627906977"
      ]
     },
     "execution_count": 73,
     "metadata": {},
     "output_type": "execute_result"
    }
   ],
   "source": [
    "orders.query(\"group == 'A' and visitorId not in @anomaly_id\").revenue.mean()"
   ]
  },
  {
   "cell_type": "code",
   "execution_count": 74,
   "id": "1ceec52a",
   "metadata": {},
   "outputs": [
    {
     "data": {
      "text/plain": [
       "4987.9631782945735"
      ]
     },
     "execution_count": 74,
     "metadata": {},
     "output_type": "execute_result"
    }
   ],
   "source": [
    "orders.query(\"group == 'B' and visitorId not in @anomaly_id\").revenue.mean()"
   ]
  },
  {
   "cell_type": "code",
   "execution_count": 75,
   "id": "08cb2bf7",
   "metadata": {},
   "outputs": [
    {
     "data": {
      "text/plain": [
       "-0.022449424512020366"
      ]
     },
     "execution_count": 75,
     "metadata": {},
     "output_type": "execute_result"
    }
   ],
   "source": [
    "orders.query(\"group == 'B' and visitorId not in @anomaly_id\").revenue.mean() /\\\n",
    "orders.query(\"group == 'A' and visitorId not in @anomaly_id\").revenue.mean() - 1"
   ]
  },
  {
   "cell_type": "markdown",
   "id": "72b29aa0",
   "metadata": {},
   "source": [
    "По подготовленным данным можно сказать, что в группе В средний чек на 2.2% меньше чем в группе А. Однако эта разница статистически не значима(pvalue=0.76, что не позволяет отвергнуть нулевую гипотезу) из-за влияния выбросов. Показатель для группы А 5103, для группы В 4988"
   ]
  },
  {
   "cell_type": "markdown",
   "id": "118d96e6",
   "metadata": {},
   "source": [
    "## Выводы по тесту"
   ]
  },
  {
   "cell_type": "markdown",
   "id": "af9f431e",
   "metadata": {},
   "source": [
    "Хотя статистически значимой разницы в среднем чеке для пользователей из группы А и группы В обнаружено не было, была обнаружена статистически значимая разница в кол-ве заказов на посетителя(в группе B на 18.9% больше чем в группе А). В общем тест можно признать успешным, введение модели В позволит увеличить количество заказов на посетителя, тем самым при неизменном среднем чеке, количество заказов увеличится, что приведет к увеличению прибыли."
   ]
  }
 ],
 "metadata": {
  "ExecuteTimeLog": [
   {
    "duration": 1318,
    "start_time": "2023-06-19T15:56:56.791Z"
   },
   {
    "duration": 145,
    "start_time": "2023-06-19T15:56:58.111Z"
   },
   {
    "duration": 0,
    "start_time": "2023-06-19T15:56:58.260Z"
   },
   {
    "duration": 0,
    "start_time": "2023-06-19T15:56:58.261Z"
   },
   {
    "duration": 0,
    "start_time": "2023-06-19T15:56:58.262Z"
   },
   {
    "duration": 0,
    "start_time": "2023-06-19T15:56:58.262Z"
   },
   {
    "duration": 0,
    "start_time": "2023-06-19T15:56:58.263Z"
   },
   {
    "duration": 0,
    "start_time": "2023-06-19T15:56:58.264Z"
   },
   {
    "duration": 0,
    "start_time": "2023-06-19T15:56:58.265Z"
   },
   {
    "duration": 0,
    "start_time": "2023-06-19T15:56:58.266Z"
   },
   {
    "duration": 0,
    "start_time": "2023-06-19T15:56:58.267Z"
   },
   {
    "duration": 0,
    "start_time": "2023-06-19T15:56:58.267Z"
   },
   {
    "duration": 0,
    "start_time": "2023-06-19T15:56:58.268Z"
   },
   {
    "duration": 0,
    "start_time": "2023-06-19T15:56:58.269Z"
   },
   {
    "duration": 0,
    "start_time": "2023-06-19T15:56:58.270Z"
   },
   {
    "duration": 0,
    "start_time": "2023-06-19T15:56:58.271Z"
   },
   {
    "duration": 0,
    "start_time": "2023-06-19T15:56:58.272Z"
   },
   {
    "duration": 0,
    "start_time": "2023-06-19T15:56:58.273Z"
   },
   {
    "duration": 0,
    "start_time": "2023-06-19T15:56:58.274Z"
   },
   {
    "duration": 0,
    "start_time": "2023-06-19T15:56:58.275Z"
   },
   {
    "duration": 0,
    "start_time": "2023-06-19T15:56:58.275Z"
   },
   {
    "duration": 0,
    "start_time": "2023-06-19T15:56:58.276Z"
   },
   {
    "duration": 0,
    "start_time": "2023-06-19T15:56:58.277Z"
   },
   {
    "duration": 0,
    "start_time": "2023-06-19T15:56:58.278Z"
   },
   {
    "duration": 0,
    "start_time": "2023-06-19T15:56:58.279Z"
   },
   {
    "duration": 0,
    "start_time": "2023-06-19T15:56:58.280Z"
   },
   {
    "duration": 0,
    "start_time": "2023-06-19T15:56:58.281Z"
   },
   {
    "duration": 0,
    "start_time": "2023-06-19T15:56:58.282Z"
   },
   {
    "duration": 0,
    "start_time": "2023-06-19T15:56:58.283Z"
   },
   {
    "duration": 0,
    "start_time": "2023-06-19T15:56:58.284Z"
   },
   {
    "duration": 0,
    "start_time": "2023-06-19T15:56:58.285Z"
   },
   {
    "duration": 0,
    "start_time": "2023-06-19T15:56:58.286Z"
   },
   {
    "duration": 0,
    "start_time": "2023-06-19T15:56:58.287Z"
   },
   {
    "duration": 0,
    "start_time": "2023-06-19T15:56:58.288Z"
   },
   {
    "duration": 0,
    "start_time": "2023-06-19T15:56:58.289Z"
   },
   {
    "duration": 0,
    "start_time": "2023-06-19T15:56:58.290Z"
   },
   {
    "duration": 0,
    "start_time": "2023-06-19T15:56:58.291Z"
   },
   {
    "duration": 0,
    "start_time": "2023-06-19T15:56:58.292Z"
   },
   {
    "duration": 0,
    "start_time": "2023-06-19T15:56:58.293Z"
   },
   {
    "duration": 0,
    "start_time": "2023-06-19T15:56:58.294Z"
   },
   {
    "duration": 0,
    "start_time": "2023-06-19T15:56:58.295Z"
   },
   {
    "duration": 0,
    "start_time": "2023-06-19T15:56:58.296Z"
   },
   {
    "duration": 0,
    "start_time": "2023-06-19T15:56:58.354Z"
   },
   {
    "duration": 1,
    "start_time": "2023-06-19T15:56:58.355Z"
   },
   {
    "duration": 0,
    "start_time": "2023-06-19T15:56:58.356Z"
   },
   {
    "duration": 0,
    "start_time": "2023-06-19T15:56:58.358Z"
   },
   {
    "duration": 0,
    "start_time": "2023-06-19T15:56:58.359Z"
   },
   {
    "duration": 0,
    "start_time": "2023-06-19T15:56:58.360Z"
   },
   {
    "duration": 0,
    "start_time": "2023-06-19T15:56:58.360Z"
   },
   {
    "duration": 0,
    "start_time": "2023-06-19T15:56:58.362Z"
   },
   {
    "duration": 0,
    "start_time": "2023-06-19T15:56:58.362Z"
   },
   {
    "duration": 0,
    "start_time": "2023-06-19T15:56:58.363Z"
   },
   {
    "duration": 0,
    "start_time": "2023-06-19T15:56:58.364Z"
   },
   {
    "duration": 0,
    "start_time": "2023-06-19T15:56:58.365Z"
   },
   {
    "duration": 0,
    "start_time": "2023-06-19T15:56:58.366Z"
   },
   {
    "duration": 0,
    "start_time": "2023-06-19T15:56:58.367Z"
   },
   {
    "duration": 0,
    "start_time": "2023-06-19T15:56:58.368Z"
   },
   {
    "duration": 0,
    "start_time": "2023-06-19T15:56:58.369Z"
   },
   {
    "duration": 0,
    "start_time": "2023-06-19T15:56:58.370Z"
   },
   {
    "duration": 0,
    "start_time": "2023-06-19T15:56:58.370Z"
   },
   {
    "duration": 0,
    "start_time": "2023-06-19T15:56:58.371Z"
   },
   {
    "duration": 0,
    "start_time": "2023-06-19T15:56:58.372Z"
   },
   {
    "duration": 0,
    "start_time": "2023-06-19T15:56:58.373Z"
   },
   {
    "duration": 1534,
    "start_time": "2023-06-19T16:06:00.089Z"
   },
   {
    "duration": 75,
    "start_time": "2023-06-19T16:06:01.626Z"
   },
   {
    "duration": 65,
    "start_time": "2023-06-19T16:06:01.703Z"
   },
   {
    "duration": 144,
    "start_time": "2023-06-19T16:06:01.771Z"
   },
   {
    "duration": 91,
    "start_time": "2023-06-19T16:06:01.916Z"
   },
   {
    "duration": 62,
    "start_time": "2023-06-19T16:06:02.009Z"
   },
   {
    "duration": 125,
    "start_time": "2023-06-19T16:06:02.073Z"
   },
   {
    "duration": 112,
    "start_time": "2023-06-19T16:06:02.200Z"
   },
   {
    "duration": 293,
    "start_time": "2023-06-19T16:06:02.315Z"
   },
   {
    "duration": 67,
    "start_time": "2023-06-19T16:06:02.612Z"
   },
   {
    "duration": 67,
    "start_time": "2023-06-19T16:06:02.681Z"
   },
   {
    "duration": 238,
    "start_time": "2023-06-19T16:06:02.750Z"
   },
   {
    "duration": 52,
    "start_time": "2023-06-19T16:06:02.991Z"
   },
   {
    "duration": 52,
    "start_time": "2023-06-19T16:06:03.045Z"
   },
   {
    "duration": 27,
    "start_time": "2023-06-19T16:06:03.100Z"
   },
   {
    "duration": 56,
    "start_time": "2023-06-19T16:06:03.129Z"
   },
   {
    "duration": 80,
    "start_time": "2023-06-19T16:06:03.188Z"
   },
   {
    "duration": 234,
    "start_time": "2023-06-19T16:06:03.270Z"
   },
   {
    "duration": 15,
    "start_time": "2023-06-19T16:06:03.509Z"
   },
   {
    "duration": 389,
    "start_time": "2023-06-19T16:06:03.526Z"
   },
   {
    "duration": 5,
    "start_time": "2023-06-19T16:06:03.916Z"
   },
   {
    "duration": 83,
    "start_time": "2023-06-19T16:06:03.923Z"
   },
   {
    "duration": 310,
    "start_time": "2023-06-19T16:06:04.008Z"
   },
   {
    "duration": 8,
    "start_time": "2023-06-19T16:06:04.321Z"
   },
   {
    "duration": 17,
    "start_time": "2023-06-19T16:06:04.333Z"
   },
   {
    "duration": 19,
    "start_time": "2023-06-19T16:06:04.352Z"
   },
   {
    "duration": 378,
    "start_time": "2023-06-19T16:06:04.374Z"
   },
   {
    "duration": 139,
    "start_time": "2023-06-19T16:06:04.757Z"
   },
   {
    "duration": 26,
    "start_time": "2023-06-19T16:06:04.898Z"
   },
   {
    "duration": 40,
    "start_time": "2023-06-19T16:06:04.925Z"
   },
   {
    "duration": 26,
    "start_time": "2023-06-19T16:06:04.966Z"
   },
   {
    "duration": 141,
    "start_time": "2023-06-19T16:06:04.994Z"
   },
   {
    "duration": 297,
    "start_time": "2023-06-19T16:06:05.138Z"
   },
   {
    "duration": 154,
    "start_time": "2023-06-19T16:06:05.437Z"
   },
   {
    "duration": 88,
    "start_time": "2023-06-19T16:06:05.593Z"
   },
   {
    "duration": 339,
    "start_time": "2023-06-19T16:06:05.684Z"
   },
   {
    "duration": 8,
    "start_time": "2023-06-19T16:06:06.025Z"
   },
   {
    "duration": 60,
    "start_time": "2023-06-19T16:06:06.036Z"
   },
   {
    "duration": 38,
    "start_time": "2023-06-19T16:06:06.098Z"
   },
   {
    "duration": 64,
    "start_time": "2023-06-19T16:06:06.138Z"
   },
   {
    "duration": 79,
    "start_time": "2023-06-19T16:06:06.205Z"
   },
   {
    "duration": 237,
    "start_time": "2023-06-19T16:06:06.287Z"
   },
   {
    "duration": 163,
    "start_time": "2023-06-19T16:06:06.526Z"
   },
   {
    "duration": 6,
    "start_time": "2023-06-19T16:06:06.690Z"
   },
   {
    "duration": 316,
    "start_time": "2023-06-19T16:06:06.697Z"
   },
   {
    "duration": 0,
    "start_time": "2023-06-19T16:06:07.015Z"
   },
   {
    "duration": 0,
    "start_time": "2023-06-19T16:06:07.017Z"
   },
   {
    "duration": 0,
    "start_time": "2023-06-19T16:06:07.018Z"
   },
   {
    "duration": 0,
    "start_time": "2023-06-19T16:06:07.020Z"
   },
   {
    "duration": 0,
    "start_time": "2023-06-19T16:06:07.021Z"
   },
   {
    "duration": 0,
    "start_time": "2023-06-19T16:06:07.023Z"
   },
   {
    "duration": 0,
    "start_time": "2023-06-19T16:06:07.024Z"
   },
   {
    "duration": 0,
    "start_time": "2023-06-19T16:06:07.025Z"
   },
   {
    "duration": 0,
    "start_time": "2023-06-19T16:06:07.027Z"
   },
   {
    "duration": 0,
    "start_time": "2023-06-19T16:06:07.028Z"
   },
   {
    "duration": 0,
    "start_time": "2023-06-19T16:06:07.030Z"
   },
   {
    "duration": 0,
    "start_time": "2023-06-19T16:06:07.031Z"
   },
   {
    "duration": 0,
    "start_time": "2023-06-19T16:06:07.032Z"
   },
   {
    "duration": 0,
    "start_time": "2023-06-19T16:06:07.034Z"
   },
   {
    "duration": 0,
    "start_time": "2023-06-19T16:06:07.036Z"
   },
   {
    "duration": 0,
    "start_time": "2023-06-19T16:06:07.037Z"
   },
   {
    "duration": 0,
    "start_time": "2023-06-19T16:06:07.038Z"
   },
   {
    "duration": 0,
    "start_time": "2023-06-19T16:06:07.039Z"
   },
   {
    "duration": 161,
    "start_time": "2023-06-19T16:06:40.693Z"
   },
   {
    "duration": 208,
    "start_time": "2023-06-19T16:06:47.761Z"
   },
   {
    "duration": 138,
    "start_time": "2023-06-19T16:06:55.077Z"
   },
   {
    "duration": 242,
    "start_time": "2023-06-19T16:07:15.201Z"
   },
   {
    "duration": 288,
    "start_time": "2023-06-19T16:07:26.785Z"
   },
   {
    "duration": 295,
    "start_time": "2023-06-19T16:07:34.727Z"
   },
   {
    "duration": 259,
    "start_time": "2023-06-19T16:07:44.525Z"
   },
   {
    "duration": 129,
    "start_time": "2023-06-19T16:07:50.684Z"
   },
   {
    "duration": 185,
    "start_time": "2023-06-19T16:07:54.822Z"
   },
   {
    "duration": 4,
    "start_time": "2023-06-19T16:08:12.567Z"
   },
   {
    "duration": 30,
    "start_time": "2023-06-19T16:08:12.573Z"
   },
   {
    "duration": 4,
    "start_time": "2023-06-19T16:08:12.605Z"
   },
   {
    "duration": 10,
    "start_time": "2023-06-19T16:08:12.612Z"
   },
   {
    "duration": 14,
    "start_time": "2023-06-19T16:08:12.624Z"
   },
   {
    "duration": 7,
    "start_time": "2023-06-19T16:08:12.640Z"
   },
   {
    "duration": 14,
    "start_time": "2023-06-19T16:08:12.649Z"
   },
   {
    "duration": 15,
    "start_time": "2023-06-19T16:08:12.664Z"
   },
   {
    "duration": 166,
    "start_time": "2023-06-19T16:08:12.682Z"
   },
   {
    "duration": 23,
    "start_time": "2023-06-19T16:08:12.850Z"
   },
   {
    "duration": 8,
    "start_time": "2023-06-19T16:08:12.875Z"
   },
   {
    "duration": 21,
    "start_time": "2023-06-19T16:08:12.885Z"
   },
   {
    "duration": 49,
    "start_time": "2023-06-19T16:08:12.908Z"
   },
   {
    "duration": 24,
    "start_time": "2023-06-19T16:08:12.959Z"
   },
   {
    "duration": 8,
    "start_time": "2023-06-19T16:08:12.984Z"
   },
   {
    "duration": 13,
    "start_time": "2023-06-19T16:08:12.993Z"
   },
   {
    "duration": 16,
    "start_time": "2023-06-19T16:08:13.008Z"
   },
   {
    "duration": 197,
    "start_time": "2023-06-19T16:08:13.025Z"
   },
   {
    "duration": 14,
    "start_time": "2023-06-19T16:08:13.224Z"
   },
   {
    "duration": 286,
    "start_time": "2023-06-19T16:08:13.241Z"
   },
   {
    "duration": 5,
    "start_time": "2023-06-19T16:08:13.529Z"
   },
   {
    "duration": 20,
    "start_time": "2023-06-19T16:08:13.536Z"
   },
   {
    "duration": 267,
    "start_time": "2023-06-19T16:08:13.558Z"
   },
   {
    "duration": 8,
    "start_time": "2023-06-19T16:08:13.830Z"
   },
   {
    "duration": 24,
    "start_time": "2023-06-19T16:08:13.840Z"
   },
   {
    "duration": 18,
    "start_time": "2023-06-19T16:08:13.867Z"
   },
   {
    "duration": 337,
    "start_time": "2023-06-19T16:08:13.888Z"
   },
   {
    "duration": 166,
    "start_time": "2023-06-19T16:08:14.227Z"
   },
   {
    "duration": 18,
    "start_time": "2023-06-19T16:08:14.395Z"
   },
   {
    "duration": 29,
    "start_time": "2023-06-19T16:08:14.415Z"
   },
   {
    "duration": 13,
    "start_time": "2023-06-19T16:08:14.446Z"
   },
   {
    "duration": 27,
    "start_time": "2023-06-19T16:08:14.461Z"
   },
   {
    "duration": 23,
    "start_time": "2023-06-19T16:08:14.490Z"
   },
   {
    "duration": 17,
    "start_time": "2023-06-19T16:08:14.515Z"
   },
   {
    "duration": 19,
    "start_time": "2023-06-19T16:08:14.534Z"
   },
   {
    "duration": 280,
    "start_time": "2023-06-19T16:08:14.556Z"
   },
   {
    "duration": 8,
    "start_time": "2023-06-19T16:08:14.838Z"
   },
   {
    "duration": 29,
    "start_time": "2023-06-19T16:08:14.849Z"
   },
   {
    "duration": 14,
    "start_time": "2023-06-19T16:08:14.880Z"
   },
   {
    "duration": 54,
    "start_time": "2023-06-19T16:08:14.896Z"
   },
   {
    "duration": 46,
    "start_time": "2023-06-19T16:08:14.952Z"
   },
   {
    "duration": 51,
    "start_time": "2023-06-19T16:08:15.000Z"
   },
   {
    "duration": 207,
    "start_time": "2023-06-19T16:08:15.053Z"
   },
   {
    "duration": 8,
    "start_time": "2023-06-19T16:08:15.262Z"
   },
   {
    "duration": 172,
    "start_time": "2023-06-19T16:08:15.272Z"
   },
   {
    "duration": 0,
    "start_time": "2023-06-19T16:08:15.446Z"
   },
   {
    "duration": 0,
    "start_time": "2023-06-19T16:08:15.448Z"
   },
   {
    "duration": 0,
    "start_time": "2023-06-19T16:08:15.451Z"
   },
   {
    "duration": 0,
    "start_time": "2023-06-19T16:08:15.452Z"
   },
   {
    "duration": 0,
    "start_time": "2023-06-19T16:08:15.454Z"
   },
   {
    "duration": 0,
    "start_time": "2023-06-19T16:08:15.455Z"
   },
   {
    "duration": 0,
    "start_time": "2023-06-19T16:08:15.457Z"
   },
   {
    "duration": 0,
    "start_time": "2023-06-19T16:08:15.459Z"
   },
   {
    "duration": 0,
    "start_time": "2023-06-19T16:08:15.461Z"
   },
   {
    "duration": 0,
    "start_time": "2023-06-19T16:08:15.462Z"
   },
   {
    "duration": 0,
    "start_time": "2023-06-19T16:08:15.464Z"
   },
   {
    "duration": 0,
    "start_time": "2023-06-19T16:08:15.465Z"
   },
   {
    "duration": 0,
    "start_time": "2023-06-19T16:08:15.467Z"
   },
   {
    "duration": 0,
    "start_time": "2023-06-19T16:08:15.469Z"
   },
   {
    "duration": 0,
    "start_time": "2023-06-19T16:08:15.470Z"
   },
   {
    "duration": 0,
    "start_time": "2023-06-19T16:08:15.514Z"
   },
   {
    "duration": 0,
    "start_time": "2023-06-19T16:08:15.516Z"
   },
   {
    "duration": 1,
    "start_time": "2023-06-19T16:08:15.517Z"
   },
   {
    "duration": 1270,
    "start_time": "2023-06-19T16:08:22.001Z"
   },
   {
    "duration": 30,
    "start_time": "2023-06-19T16:08:23.273Z"
   },
   {
    "duration": 3,
    "start_time": "2023-06-19T16:08:23.305Z"
   },
   {
    "duration": 16,
    "start_time": "2023-06-19T16:08:23.310Z"
   },
   {
    "duration": 17,
    "start_time": "2023-06-19T16:08:23.327Z"
   },
   {
    "duration": 8,
    "start_time": "2023-06-19T16:08:23.346Z"
   },
   {
    "duration": 23,
    "start_time": "2023-06-19T16:08:23.356Z"
   },
   {
    "duration": 16,
    "start_time": "2023-06-19T16:08:23.381Z"
   },
   {
    "duration": 143,
    "start_time": "2023-06-19T16:08:23.399Z"
   },
   {
    "duration": 22,
    "start_time": "2023-06-19T16:08:23.545Z"
   },
   {
    "duration": 9,
    "start_time": "2023-06-19T16:08:23.569Z"
   },
   {
    "duration": 12,
    "start_time": "2023-06-19T16:08:23.579Z"
   },
   {
    "duration": 25,
    "start_time": "2023-06-19T16:08:23.593Z"
   },
   {
    "duration": 66,
    "start_time": "2023-06-19T16:08:23.621Z"
   },
   {
    "duration": 8,
    "start_time": "2023-06-19T16:08:23.690Z"
   },
   {
    "duration": 12,
    "start_time": "2023-06-19T16:08:23.700Z"
   },
   {
    "duration": 16,
    "start_time": "2023-06-19T16:08:23.714Z"
   },
   {
    "duration": 187,
    "start_time": "2023-06-19T16:08:23.732Z"
   },
   {
    "duration": 15,
    "start_time": "2023-06-19T16:08:23.922Z"
   },
   {
    "duration": 349,
    "start_time": "2023-06-19T16:08:23.939Z"
   },
   {
    "duration": 4,
    "start_time": "2023-06-19T16:08:24.291Z"
   },
   {
    "duration": 28,
    "start_time": "2023-06-19T16:08:24.298Z"
   },
   {
    "duration": 262,
    "start_time": "2023-06-19T16:08:24.328Z"
   },
   {
    "duration": 21,
    "start_time": "2023-06-19T16:08:24.592Z"
   },
   {
    "duration": 8,
    "start_time": "2023-06-19T16:08:24.615Z"
   },
   {
    "duration": 13,
    "start_time": "2023-06-19T16:08:24.625Z"
   },
   {
    "duration": 318,
    "start_time": "2023-06-19T16:08:24.640Z"
   },
   {
    "duration": 150,
    "start_time": "2023-06-19T16:08:24.963Z"
   },
   {
    "duration": 12,
    "start_time": "2023-06-19T16:08:25.115Z"
   },
   {
    "duration": 33,
    "start_time": "2023-06-19T16:08:25.129Z"
   },
   {
    "duration": 46,
    "start_time": "2023-06-19T16:08:25.164Z"
   },
   {
    "duration": 31,
    "start_time": "2023-06-19T16:08:25.212Z"
   },
   {
    "duration": 33,
    "start_time": "2023-06-19T16:08:25.245Z"
   },
   {
    "duration": 10,
    "start_time": "2023-06-19T16:08:25.280Z"
   },
   {
    "duration": 25,
    "start_time": "2023-06-19T16:08:25.292Z"
   },
   {
    "duration": 280,
    "start_time": "2023-06-19T16:08:25.319Z"
   },
   {
    "duration": 13,
    "start_time": "2023-06-19T16:08:25.600Z"
   },
   {
    "duration": 14,
    "start_time": "2023-06-19T16:08:25.616Z"
   },
   {
    "duration": 17,
    "start_time": "2023-06-19T16:08:25.632Z"
   },
   {
    "duration": 15,
    "start_time": "2023-06-19T16:08:25.651Z"
   },
   {
    "duration": 23,
    "start_time": "2023-06-19T16:08:25.668Z"
   },
   {
    "duration": 29,
    "start_time": "2023-06-19T16:08:25.693Z"
   },
   {
    "duration": 145,
    "start_time": "2023-06-19T16:08:25.723Z"
   },
   {
    "duration": 7,
    "start_time": "2023-06-19T16:08:25.869Z"
   },
   {
    "duration": 281,
    "start_time": "2023-06-19T16:08:25.878Z"
   },
   {
    "duration": 0,
    "start_time": "2023-06-19T16:08:26.161Z"
   },
   {
    "duration": 0,
    "start_time": "2023-06-19T16:08:26.162Z"
   },
   {
    "duration": 0,
    "start_time": "2023-06-19T16:08:26.163Z"
   },
   {
    "duration": 0,
    "start_time": "2023-06-19T16:08:26.164Z"
   },
   {
    "duration": 0,
    "start_time": "2023-06-19T16:08:26.166Z"
   },
   {
    "duration": 0,
    "start_time": "2023-06-19T16:08:26.167Z"
   },
   {
    "duration": 0,
    "start_time": "2023-06-19T16:08:26.168Z"
   },
   {
    "duration": 0,
    "start_time": "2023-06-19T16:08:26.169Z"
   },
   {
    "duration": 0,
    "start_time": "2023-06-19T16:08:26.170Z"
   },
   {
    "duration": 0,
    "start_time": "2023-06-19T16:08:26.171Z"
   },
   {
    "duration": 0,
    "start_time": "2023-06-19T16:08:26.172Z"
   },
   {
    "duration": 0,
    "start_time": "2023-06-19T16:08:26.173Z"
   },
   {
    "duration": 0,
    "start_time": "2023-06-19T16:08:26.174Z"
   },
   {
    "duration": 0,
    "start_time": "2023-06-19T16:08:26.176Z"
   },
   {
    "duration": 0,
    "start_time": "2023-06-19T16:08:26.177Z"
   },
   {
    "duration": 0,
    "start_time": "2023-06-19T16:08:26.178Z"
   },
   {
    "duration": 0,
    "start_time": "2023-06-19T16:08:26.179Z"
   },
   {
    "duration": 0,
    "start_time": "2023-06-19T16:08:26.214Z"
   },
   {
    "duration": 146,
    "start_time": "2023-06-19T16:08:45.326Z"
   },
   {
    "duration": 4,
    "start_time": "2023-06-19T16:08:53.487Z"
   },
   {
    "duration": 92,
    "start_time": "2023-06-19T16:08:53.493Z"
   },
   {
    "duration": 14,
    "start_time": "2023-06-19T16:08:53.588Z"
   },
   {
    "duration": 43,
    "start_time": "2023-06-19T16:08:53.604Z"
   },
   {
    "duration": 91,
    "start_time": "2023-06-19T16:08:53.650Z"
   },
   {
    "duration": 47,
    "start_time": "2023-06-19T16:08:53.742Z"
   },
   {
    "duration": 35,
    "start_time": "2023-06-19T16:08:53.791Z"
   },
   {
    "duration": 77,
    "start_time": "2023-06-19T16:08:53.828Z"
   },
   {
    "duration": 220,
    "start_time": "2023-06-19T16:08:53.908Z"
   },
   {
    "duration": 24,
    "start_time": "2023-06-19T16:08:54.130Z"
   },
   {
    "duration": 29,
    "start_time": "2023-06-19T16:08:54.157Z"
   },
   {
    "duration": 49,
    "start_time": "2023-06-19T16:08:54.188Z"
   },
   {
    "duration": 57,
    "start_time": "2023-06-19T16:08:54.239Z"
   },
   {
    "duration": 49,
    "start_time": "2023-06-19T16:08:54.299Z"
   },
   {
    "duration": 34,
    "start_time": "2023-06-19T16:08:54.351Z"
   },
   {
    "duration": 31,
    "start_time": "2023-06-19T16:08:54.387Z"
   },
   {
    "duration": 18,
    "start_time": "2023-06-19T16:08:54.420Z"
   },
   {
    "duration": 221,
    "start_time": "2023-06-19T16:08:54.440Z"
   },
   {
    "duration": 13,
    "start_time": "2023-06-19T16:08:54.663Z"
   },
   {
    "duration": 422,
    "start_time": "2023-06-19T16:08:54.678Z"
   },
   {
    "duration": 4,
    "start_time": "2023-06-19T16:08:55.102Z"
   },
   {
    "duration": 107,
    "start_time": "2023-06-19T16:08:55.113Z"
   },
   {
    "duration": 372,
    "start_time": "2023-06-19T16:08:55.222Z"
   },
   {
    "duration": 19,
    "start_time": "2023-06-19T16:08:55.596Z"
   },
   {
    "duration": 72,
    "start_time": "2023-06-19T16:08:55.617Z"
   },
   {
    "duration": 48,
    "start_time": "2023-06-19T16:08:55.691Z"
   },
   {
    "duration": 316,
    "start_time": "2023-06-19T16:08:55.742Z"
   },
   {
    "duration": 145,
    "start_time": "2023-06-19T16:08:56.060Z"
   },
   {
    "duration": 13,
    "start_time": "2023-06-19T16:08:56.212Z"
   },
   {
    "duration": 46,
    "start_time": "2023-06-19T16:08:56.227Z"
   },
   {
    "duration": 10,
    "start_time": "2023-06-19T16:08:56.275Z"
   },
   {
    "duration": 16,
    "start_time": "2023-06-19T16:08:56.287Z"
   },
   {
    "duration": 97,
    "start_time": "2023-06-19T16:08:56.305Z"
   },
   {
    "duration": 40,
    "start_time": "2023-06-19T16:08:56.404Z"
   },
   {
    "duration": 56,
    "start_time": "2023-06-19T16:08:56.446Z"
   },
   {
    "duration": 267,
    "start_time": "2023-06-19T16:08:56.504Z"
   },
   {
    "duration": 9,
    "start_time": "2023-06-19T16:08:56.773Z"
   },
   {
    "duration": 30,
    "start_time": "2023-06-19T16:08:56.784Z"
   },
   {
    "duration": 21,
    "start_time": "2023-06-19T16:08:56.817Z"
   },
   {
    "duration": 33,
    "start_time": "2023-06-19T16:08:56.840Z"
   },
   {
    "duration": 13,
    "start_time": "2023-06-19T16:08:56.875Z"
   },
   {
    "duration": 13,
    "start_time": "2023-06-19T16:08:56.890Z"
   },
   {
    "duration": 144,
    "start_time": "2023-06-19T16:08:56.905Z"
   },
   {
    "duration": 5,
    "start_time": "2023-06-19T16:08:57.051Z"
   },
   {
    "duration": 171,
    "start_time": "2023-06-19T16:08:57.058Z"
   },
   {
    "duration": 5,
    "start_time": "2023-06-19T16:08:57.231Z"
   },
   {
    "duration": 21,
    "start_time": "2023-06-19T16:08:57.238Z"
   },
   {
    "duration": 23,
    "start_time": "2023-06-19T16:08:57.261Z"
   },
   {
    "duration": 28,
    "start_time": "2023-06-19T16:08:57.286Z"
   },
   {
    "duration": 11,
    "start_time": "2023-06-19T16:08:57.316Z"
   },
   {
    "duration": 10,
    "start_time": "2023-06-19T16:08:57.329Z"
   },
   {
    "duration": 46,
    "start_time": "2023-06-19T16:08:57.341Z"
   },
   {
    "duration": 32,
    "start_time": "2023-06-19T16:08:57.389Z"
   },
   {
    "duration": 33,
    "start_time": "2023-06-19T16:08:57.423Z"
   },
   {
    "duration": 137,
    "start_time": "2023-06-19T16:08:57.458Z"
   },
   {
    "duration": 23,
    "start_time": "2023-06-19T16:08:57.597Z"
   },
   {
    "duration": 17,
    "start_time": "2023-06-19T16:08:57.621Z"
   },
   {
    "duration": 15,
    "start_time": "2023-06-19T16:08:57.641Z"
   },
   {
    "duration": 27,
    "start_time": "2023-06-19T16:08:57.658Z"
   },
   {
    "duration": 43,
    "start_time": "2023-06-19T16:08:57.687Z"
   },
   {
    "duration": 25,
    "start_time": "2023-06-19T16:08:57.732Z"
   },
   {
    "duration": 14,
    "start_time": "2023-06-19T16:08:57.760Z"
   },
   {
    "duration": 88,
    "start_time": "2023-06-19T16:08:57.776Z"
   },
   {
    "duration": 271,
    "start_time": "2023-06-19T16:10:04.788Z"
   },
   {
    "duration": 252,
    "start_time": "2023-06-19T16:11:11.242Z"
   },
   {
    "duration": 269,
    "start_time": "2023-06-19T16:11:44.199Z"
   },
   {
    "duration": 318,
    "start_time": "2023-06-19T16:12:50.488Z"
   },
   {
    "duration": 303,
    "start_time": "2023-06-19T16:13:02.349Z"
   },
   {
    "duration": 295,
    "start_time": "2023-06-19T16:13:34.946Z"
   },
   {
    "duration": 411,
    "start_time": "2023-06-19T16:13:44.696Z"
   },
   {
    "duration": 308,
    "start_time": "2023-06-19T16:13:50.324Z"
   },
   {
    "duration": 322,
    "start_time": "2023-06-19T16:14:09.017Z"
   },
   {
    "duration": 370,
    "start_time": "2023-06-19T16:16:03.484Z"
   },
   {
    "duration": 332,
    "start_time": "2023-06-19T16:16:08.078Z"
   },
   {
    "duration": 334,
    "start_time": "2023-06-19T16:16:12.116Z"
   },
   {
    "duration": 304,
    "start_time": "2023-06-19T16:16:23.760Z"
   },
   {
    "duration": 369,
    "start_time": "2023-06-19T16:16:31.637Z"
   },
   {
    "duration": 298,
    "start_time": "2023-06-19T16:16:35.845Z"
   },
   {
    "duration": 339,
    "start_time": "2023-06-19T16:16:38.932Z"
   },
   {
    "duration": 362,
    "start_time": "2023-06-19T16:16:42.526Z"
   },
   {
    "duration": 326,
    "start_time": "2023-06-19T16:16:59.100Z"
   },
   {
    "duration": 549,
    "start_time": "2023-06-19T16:17:44.013Z"
   },
   {
    "duration": 324,
    "start_time": "2023-06-19T16:17:50.130Z"
   },
   {
    "duration": 312,
    "start_time": "2023-06-19T16:18:51.259Z"
   },
   {
    "duration": 325,
    "start_time": "2023-06-19T16:18:56.019Z"
   },
   {
    "duration": 294,
    "start_time": "2023-06-19T16:19:02.964Z"
   },
   {
    "duration": 317,
    "start_time": "2023-06-19T16:19:10.233Z"
   },
   {
    "duration": 15,
    "start_time": "2023-06-19T16:22:09.656Z"
   },
   {
    "duration": 5,
    "start_time": "2023-06-19T16:23:13.461Z"
   },
   {
    "duration": 15,
    "start_time": "2023-06-19T16:23:16.741Z"
   },
   {
    "duration": 17,
    "start_time": "2023-06-19T16:23:25.877Z"
   },
   {
    "duration": 14,
    "start_time": "2023-06-19T16:23:47.059Z"
   },
   {
    "duration": 164,
    "start_time": "2023-06-19T16:24:06.408Z"
   },
   {
    "duration": 326,
    "start_time": "2023-06-19T16:24:14.915Z"
   },
   {
    "duration": 330,
    "start_time": "2023-06-19T16:24:23.087Z"
   },
   {
    "duration": 220,
    "start_time": "2023-06-19T16:24:33.512Z"
   },
   {
    "duration": 12,
    "start_time": "2023-06-19T16:24:55.424Z"
   },
   {
    "duration": 11,
    "start_time": "2023-06-19T16:25:02.851Z"
   },
   {
    "duration": 10,
    "start_time": "2023-06-19T16:25:10.155Z"
   },
   {
    "duration": 4,
    "start_time": "2023-06-19T16:25:13.580Z"
   },
   {
    "duration": 6,
    "start_time": "2023-06-19T16:25:21.435Z"
   },
   {
    "duration": 300,
    "start_time": "2023-06-19T16:25:50.727Z"
   },
   {
    "duration": 302,
    "start_time": "2023-06-19T16:26:15.043Z"
   },
   {
    "duration": 148,
    "start_time": "2023-06-19T16:26:56.800Z"
   },
   {
    "duration": 338,
    "start_time": "2023-06-19T16:27:42.891Z"
   },
   {
    "duration": 19,
    "start_time": "2023-06-19T16:28:42.836Z"
   },
   {
    "duration": 14,
    "start_time": "2023-06-19T16:28:52.335Z"
   },
   {
    "duration": 313,
    "start_time": "2023-06-19T16:29:05.804Z"
   },
   {
    "duration": 318,
    "start_time": "2023-06-19T16:29:17.911Z"
   },
   {
    "duration": 471,
    "start_time": "2023-06-19T16:30:08.012Z"
   },
   {
    "duration": 1188,
    "start_time": "2023-06-19T16:30:26.248Z"
   },
   {
    "duration": 29,
    "start_time": "2023-06-19T16:30:27.438Z"
   },
   {
    "duration": 24,
    "start_time": "2023-06-19T16:30:27.469Z"
   },
   {
    "duration": 49,
    "start_time": "2023-06-19T16:30:27.495Z"
   },
   {
    "duration": 18,
    "start_time": "2023-06-19T16:30:27.546Z"
   },
   {
    "duration": 100,
    "start_time": "2023-06-19T16:30:27.566Z"
   },
   {
    "duration": 33,
    "start_time": "2023-06-19T16:30:27.668Z"
   },
   {
    "duration": 22,
    "start_time": "2023-06-19T16:30:27.703Z"
   },
   {
    "duration": 148,
    "start_time": "2023-06-19T16:30:27.727Z"
   },
   {
    "duration": 22,
    "start_time": "2023-06-19T16:30:27.878Z"
   },
   {
    "duration": 30,
    "start_time": "2023-06-19T16:30:27.902Z"
   },
   {
    "duration": 19,
    "start_time": "2023-06-19T16:30:27.935Z"
   },
   {
    "duration": 24,
    "start_time": "2023-06-19T16:30:27.956Z"
   },
   {
    "duration": 35,
    "start_time": "2023-06-19T16:30:27.983Z"
   },
   {
    "duration": 14,
    "start_time": "2023-06-19T16:30:28.020Z"
   },
   {
    "duration": 9,
    "start_time": "2023-06-19T16:30:28.036Z"
   },
   {
    "duration": 8,
    "start_time": "2023-06-19T16:30:28.047Z"
   },
   {
    "duration": 188,
    "start_time": "2023-06-19T16:30:28.057Z"
   },
   {
    "duration": 14,
    "start_time": "2023-06-19T16:30:28.247Z"
   },
   {
    "duration": 381,
    "start_time": "2023-06-19T16:30:28.263Z"
   },
   {
    "duration": 4,
    "start_time": "2023-06-19T16:30:28.646Z"
   },
   {
    "duration": 17,
    "start_time": "2023-06-19T16:30:28.652Z"
   },
   {
    "duration": 265,
    "start_time": "2023-06-19T16:30:28.671Z"
   },
   {
    "duration": 8,
    "start_time": "2023-06-19T16:30:28.939Z"
   },
   {
    "duration": 30,
    "start_time": "2023-06-19T16:30:28.949Z"
   },
   {
    "duration": 61,
    "start_time": "2023-06-19T16:30:28.981Z"
   },
   {
    "duration": 312,
    "start_time": "2023-06-19T16:30:30.673Z"
   },
   {
    "duration": 361,
    "start_time": "2023-06-19T16:30:40.900Z"
   },
   {
    "duration": 302,
    "start_time": "2023-06-19T16:31:28.563Z"
   },
   {
    "duration": 317,
    "start_time": "2023-06-19T16:31:34.052Z"
   },
   {
    "duration": 337,
    "start_time": "2023-06-19T16:32:57.403Z"
   },
   {
    "duration": 262,
    "start_time": "2023-06-19T16:33:04.935Z"
   },
   {
    "duration": 296,
    "start_time": "2023-06-19T16:33:12.779Z"
   },
   {
    "duration": 342,
    "start_time": "2023-06-19T16:33:45.012Z"
   },
   {
    "duration": 263,
    "start_time": "2023-06-19T16:33:49.524Z"
   },
   {
    "duration": 382,
    "start_time": "2023-06-19T16:33:54.791Z"
   },
   {
    "duration": 395,
    "start_time": "2023-06-19T16:34:02.807Z"
   },
   {
    "duration": 438,
    "start_time": "2023-06-19T16:34:09.459Z"
   },
   {
    "duration": 367,
    "start_time": "2023-06-19T16:34:15.974Z"
   },
   {
    "duration": 366,
    "start_time": "2023-06-19T16:34:38.315Z"
   },
   {
    "duration": 120,
    "start_time": "2023-06-19T16:36:35.352Z"
   },
   {
    "duration": 3,
    "start_time": "2023-06-19T16:36:42.085Z"
   },
   {
    "duration": 43,
    "start_time": "2023-06-19T16:36:42.091Z"
   },
   {
    "duration": 15,
    "start_time": "2023-06-19T16:36:42.136Z"
   },
   {
    "duration": 20,
    "start_time": "2023-06-19T16:36:42.153Z"
   },
   {
    "duration": 9,
    "start_time": "2023-06-19T16:36:42.176Z"
   },
   {
    "duration": 11,
    "start_time": "2023-06-19T16:36:42.188Z"
   },
   {
    "duration": 33,
    "start_time": "2023-06-19T16:36:42.201Z"
   },
   {
    "duration": 16,
    "start_time": "2023-06-19T16:36:42.236Z"
   },
   {
    "duration": 155,
    "start_time": "2023-06-19T16:36:42.254Z"
   },
   {
    "duration": 23,
    "start_time": "2023-06-19T16:36:42.413Z"
   },
   {
    "duration": 9,
    "start_time": "2023-06-19T16:36:42.439Z"
   },
   {
    "duration": 26,
    "start_time": "2023-06-19T16:36:42.450Z"
   },
   {
    "duration": 22,
    "start_time": "2023-06-19T16:36:42.478Z"
   },
   {
    "duration": 19,
    "start_time": "2023-06-19T16:36:42.502Z"
   },
   {
    "duration": 26,
    "start_time": "2023-06-19T16:36:42.524Z"
   },
   {
    "duration": 23,
    "start_time": "2023-06-19T16:36:42.551Z"
   },
   {
    "duration": 16,
    "start_time": "2023-06-19T16:36:42.576Z"
   },
   {
    "duration": 216,
    "start_time": "2023-06-19T16:36:42.594Z"
   },
   {
    "duration": 16,
    "start_time": "2023-06-19T16:36:42.812Z"
   },
   {
    "duration": 283,
    "start_time": "2023-06-19T16:36:42.830Z"
   },
   {
    "duration": 5,
    "start_time": "2023-06-19T16:36:43.115Z"
   },
   {
    "duration": 41,
    "start_time": "2023-06-19T16:36:43.122Z"
   },
   {
    "duration": 274,
    "start_time": "2023-06-19T16:36:43.165Z"
   },
   {
    "duration": 8,
    "start_time": "2023-06-19T16:36:43.441Z"
   },
   {
    "duration": 37,
    "start_time": "2023-06-19T16:36:43.451Z"
   },
   {
    "duration": 38,
    "start_time": "2023-06-19T16:36:43.489Z"
   },
   {
    "duration": 522,
    "start_time": "2023-06-19T16:36:43.529Z"
   },
   {
    "duration": 173,
    "start_time": "2023-06-19T16:36:44.054Z"
   },
   {
    "duration": 11,
    "start_time": "2023-06-19T16:36:44.231Z"
   },
   {
    "duration": 23,
    "start_time": "2023-06-19T16:36:44.244Z"
   },
   {
    "duration": 14,
    "start_time": "2023-06-19T16:36:44.269Z"
   },
   {
    "duration": 32,
    "start_time": "2023-06-19T16:36:44.285Z"
   },
   {
    "duration": 36,
    "start_time": "2023-06-19T16:36:44.319Z"
   },
   {
    "duration": 24,
    "start_time": "2023-06-19T16:36:44.357Z"
   },
   {
    "duration": 21,
    "start_time": "2023-06-19T16:36:44.383Z"
   },
   {
    "duration": 344,
    "start_time": "2023-06-19T16:36:44.406Z"
   },
   {
    "duration": 10,
    "start_time": "2023-06-19T16:36:44.753Z"
   },
   {
    "duration": 40,
    "start_time": "2023-06-19T16:36:44.765Z"
   },
   {
    "duration": 28,
    "start_time": "2023-06-19T16:36:44.807Z"
   },
   {
    "duration": 16,
    "start_time": "2023-06-19T16:36:44.837Z"
   },
   {
    "duration": 9,
    "start_time": "2023-06-19T16:36:44.855Z"
   },
   {
    "duration": 27,
    "start_time": "2023-06-19T16:36:44.866Z"
   },
   {
    "duration": 159,
    "start_time": "2023-06-19T16:36:44.894Z"
   },
   {
    "duration": 6,
    "start_time": "2023-06-19T16:36:45.056Z"
   },
   {
    "duration": 173,
    "start_time": "2023-06-19T16:36:45.064Z"
   },
   {
    "duration": 6,
    "start_time": "2023-06-19T16:36:45.238Z"
   },
   {
    "duration": 33,
    "start_time": "2023-06-19T16:36:45.246Z"
   },
   {
    "duration": 24,
    "start_time": "2023-06-19T16:36:45.281Z"
   },
   {
    "duration": 14,
    "start_time": "2023-06-19T16:36:45.307Z"
   },
   {
    "duration": 14,
    "start_time": "2023-06-19T16:36:45.323Z"
   },
   {
    "duration": 10,
    "start_time": "2023-06-19T16:36:45.339Z"
   },
   {
    "duration": 9,
    "start_time": "2023-06-19T16:36:45.351Z"
   },
   {
    "duration": 18,
    "start_time": "2023-06-19T16:36:45.362Z"
   },
   {
    "duration": 25,
    "start_time": "2023-06-19T16:36:45.382Z"
   },
   {
    "duration": 113,
    "start_time": "2023-06-19T16:36:45.412Z"
   },
   {
    "duration": 13,
    "start_time": "2023-06-19T16:36:45.527Z"
   },
   {
    "duration": 25,
    "start_time": "2023-06-19T16:36:45.543Z"
   },
   {
    "duration": 25,
    "start_time": "2023-06-19T16:36:45.571Z"
   },
   {
    "duration": 34,
    "start_time": "2023-06-19T16:36:45.598Z"
   },
   {
    "duration": 35,
    "start_time": "2023-06-19T16:36:45.634Z"
   },
   {
    "duration": 15,
    "start_time": "2023-06-19T16:36:45.672Z"
   },
   {
    "duration": 50,
    "start_time": "2023-06-19T16:36:45.690Z"
   },
   {
    "duration": 11,
    "start_time": "2023-06-19T16:36:45.742Z"
   },
   {
    "duration": 178,
    "start_time": "2023-06-19T16:37:17.280Z"
   },
   {
    "duration": 226,
    "start_time": "2023-06-19T16:38:09.885Z"
   },
   {
    "duration": 229,
    "start_time": "2023-06-19T16:38:25.892Z"
   },
   {
    "duration": 298,
    "start_time": "2023-06-19T16:38:55.659Z"
   },
   {
    "duration": 251,
    "start_time": "2023-06-19T16:39:03.148Z"
   },
   {
    "duration": 234,
    "start_time": "2023-06-19T16:39:10.211Z"
   },
   {
    "duration": 246,
    "start_time": "2023-06-19T16:39:53.777Z"
   },
   {
    "duration": 233,
    "start_time": "2023-06-19T16:40:03.395Z"
   },
   {
    "duration": 189,
    "start_time": "2023-06-19T16:40:08.778Z"
   },
   {
    "duration": 1323,
    "start_time": "2023-06-19T16:40:30.751Z"
   },
   {
    "duration": 30,
    "start_time": "2023-06-19T16:40:32.076Z"
   },
   {
    "duration": 201,
    "start_time": "2023-06-19T16:40:32.108Z"
   },
   {
    "duration": 102,
    "start_time": "2023-06-19T16:40:32.311Z"
   },
   {
    "duration": 95,
    "start_time": "2023-06-19T16:40:32.416Z"
   },
   {
    "duration": 57,
    "start_time": "2023-06-19T16:40:32.514Z"
   },
   {
    "duration": 49,
    "start_time": "2023-06-19T16:40:32.573Z"
   },
   {
    "duration": 67,
    "start_time": "2023-06-19T16:40:32.624Z"
   },
   {
    "duration": 155,
    "start_time": "2023-06-19T16:40:32.693Z"
   },
   {
    "duration": 21,
    "start_time": "2023-06-19T16:40:32.850Z"
   },
   {
    "duration": 77,
    "start_time": "2023-06-19T16:40:32.873Z"
   },
   {
    "duration": 39,
    "start_time": "2023-06-19T16:40:32.952Z"
   },
   {
    "duration": 36,
    "start_time": "2023-06-19T16:40:32.992Z"
   },
   {
    "duration": 35,
    "start_time": "2023-06-19T16:40:33.032Z"
   },
   {
    "duration": 22,
    "start_time": "2023-06-19T16:40:33.069Z"
   },
   {
    "duration": 23,
    "start_time": "2023-06-19T16:40:33.092Z"
   },
   {
    "duration": 29,
    "start_time": "2023-06-19T16:40:33.116Z"
   },
   {
    "duration": 202,
    "start_time": "2023-06-19T16:40:33.147Z"
   },
   {
    "duration": 13,
    "start_time": "2023-06-19T16:40:33.351Z"
   },
   {
    "duration": 619,
    "start_time": "2023-06-19T16:40:33.366Z"
   },
   {
    "duration": 6,
    "start_time": "2023-06-19T16:40:33.987Z"
   },
   {
    "duration": 162,
    "start_time": "2023-06-19T16:40:33.994Z"
   },
   {
    "duration": 296,
    "start_time": "2023-06-19T16:40:34.158Z"
   },
   {
    "duration": 7,
    "start_time": "2023-06-19T16:40:34.456Z"
   },
   {
    "duration": 29,
    "start_time": "2023-06-19T16:40:34.465Z"
   },
   {
    "duration": 26,
    "start_time": "2023-06-19T16:40:34.496Z"
   },
   {
    "duration": 356,
    "start_time": "2023-06-19T16:40:34.524Z"
   },
   {
    "duration": 153,
    "start_time": "2023-06-19T16:40:34.882Z"
   },
   {
    "duration": 11,
    "start_time": "2023-06-19T16:40:35.037Z"
   },
   {
    "duration": 44,
    "start_time": "2023-06-19T16:40:35.050Z"
   },
   {
    "duration": 55,
    "start_time": "2023-06-19T16:40:35.096Z"
   },
   {
    "duration": 37,
    "start_time": "2023-06-19T16:40:35.153Z"
   },
   {
    "duration": 23,
    "start_time": "2023-06-19T16:40:35.192Z"
   },
   {
    "duration": 59,
    "start_time": "2023-06-19T16:40:35.217Z"
   },
   {
    "duration": 55,
    "start_time": "2023-06-19T16:40:35.278Z"
   },
   {
    "duration": 324,
    "start_time": "2023-06-19T16:40:35.335Z"
   },
   {
    "duration": 9,
    "start_time": "2023-06-19T16:40:35.661Z"
   },
   {
    "duration": 36,
    "start_time": "2023-06-19T16:40:35.671Z"
   },
   {
    "duration": 40,
    "start_time": "2023-06-19T16:40:35.708Z"
   },
   {
    "duration": 56,
    "start_time": "2023-06-19T16:40:35.749Z"
   },
   {
    "duration": 39,
    "start_time": "2023-06-19T16:40:35.809Z"
   },
   {
    "duration": 38,
    "start_time": "2023-06-19T16:40:35.850Z"
   },
   {
    "duration": 297,
    "start_time": "2023-06-19T16:40:35.890Z"
   },
   {
    "duration": 6,
    "start_time": "2023-06-19T16:40:36.188Z"
   },
   {
    "duration": 223,
    "start_time": "2023-06-19T16:40:36.196Z"
   },
   {
    "duration": 5,
    "start_time": "2023-06-19T16:40:36.421Z"
   },
   {
    "duration": 50,
    "start_time": "2023-06-19T16:40:36.428Z"
   },
   {
    "duration": 51,
    "start_time": "2023-06-19T16:40:36.480Z"
   },
   {
    "duration": 48,
    "start_time": "2023-06-19T16:40:36.533Z"
   },
   {
    "duration": 65,
    "start_time": "2023-06-19T16:40:36.583Z"
   },
   {
    "duration": 53,
    "start_time": "2023-06-19T16:40:36.650Z"
   },
   {
    "duration": 51,
    "start_time": "2023-06-19T16:40:36.705Z"
   },
   {
    "duration": 35,
    "start_time": "2023-06-19T16:40:36.758Z"
   },
   {
    "duration": 58,
    "start_time": "2023-06-19T16:40:36.795Z"
   },
   {
    "duration": 156,
    "start_time": "2023-06-19T16:40:36.854Z"
   },
   {
    "duration": 71,
    "start_time": "2023-06-19T16:40:37.012Z"
   },
   {
    "duration": 231,
    "start_time": "2023-06-19T16:40:37.085Z"
   },
   {
    "duration": 226,
    "start_time": "2023-06-19T16:40:37.317Z"
   },
   {
    "duration": 19,
    "start_time": "2023-06-19T16:40:37.545Z"
   },
   {
    "duration": 12,
    "start_time": "2023-06-19T16:40:37.566Z"
   },
   {
    "duration": 29,
    "start_time": "2023-06-19T16:40:37.580Z"
   },
   {
    "duration": 29,
    "start_time": "2023-06-19T16:40:37.611Z"
   },
   {
    "duration": 39,
    "start_time": "2023-06-19T16:40:37.643Z"
   },
   {
    "duration": 1929,
    "start_time": "2023-06-20T09:03:19.222Z"
   },
   {
    "duration": 78,
    "start_time": "2023-06-20T09:03:21.156Z"
   },
   {
    "duration": 5,
    "start_time": "2023-06-20T09:03:21.236Z"
   },
   {
    "duration": 54,
    "start_time": "2023-06-20T09:03:21.244Z"
   },
   {
    "duration": 8,
    "start_time": "2023-06-20T09:03:21.301Z"
   },
   {
    "duration": 8,
    "start_time": "2023-06-20T09:03:21.311Z"
   },
   {
    "duration": 22,
    "start_time": "2023-06-20T09:03:21.321Z"
   },
   {
    "duration": 23,
    "start_time": "2023-06-20T09:03:21.345Z"
   },
   {
    "duration": 250,
    "start_time": "2023-06-20T09:03:21.370Z"
   },
   {
    "duration": 69,
    "start_time": "2023-06-20T09:03:21.624Z"
   },
   {
    "duration": 13,
    "start_time": "2023-06-20T09:03:21.695Z"
   },
   {
    "duration": 23,
    "start_time": "2023-06-20T09:03:21.710Z"
   },
   {
    "duration": 47,
    "start_time": "2023-06-20T09:03:21.735Z"
   },
   {
    "duration": 38,
    "start_time": "2023-06-20T09:03:21.784Z"
   },
   {
    "duration": 17,
    "start_time": "2023-06-20T09:03:21.824Z"
   },
   {
    "duration": 10,
    "start_time": "2023-06-20T09:03:21.844Z"
   },
   {
    "duration": 10,
    "start_time": "2023-06-20T09:03:21.856Z"
   },
   {
    "duration": 259,
    "start_time": "2023-06-20T09:03:21.869Z"
   },
   {
    "duration": 26,
    "start_time": "2023-06-20T09:03:22.130Z"
   },
   {
    "duration": 582,
    "start_time": "2023-06-20T09:03:22.159Z"
   },
   {
    "duration": 15,
    "start_time": "2023-06-20T09:03:22.743Z"
   },
   {
    "duration": 22,
    "start_time": "2023-06-20T09:03:22.761Z"
   },
   {
    "duration": 430,
    "start_time": "2023-06-20T09:03:22.785Z"
   },
   {
    "duration": 9,
    "start_time": "2023-06-20T09:03:23.217Z"
   },
   {
    "duration": 26,
    "start_time": "2023-06-20T09:03:23.234Z"
   },
   {
    "duration": 26,
    "start_time": "2023-06-20T09:03:23.262Z"
   },
   {
    "duration": 551,
    "start_time": "2023-06-20T09:03:23.290Z"
   },
   {
    "duration": 201,
    "start_time": "2023-06-20T09:03:23.855Z"
   },
   {
    "duration": 34,
    "start_time": "2023-06-20T09:03:24.058Z"
   },
   {
    "duration": 30,
    "start_time": "2023-06-20T09:03:24.095Z"
   },
   {
    "duration": 26,
    "start_time": "2023-06-20T09:03:24.127Z"
   },
   {
    "duration": 15,
    "start_time": "2023-06-20T09:03:24.156Z"
   },
   {
    "duration": 29,
    "start_time": "2023-06-20T09:03:24.173Z"
   },
   {
    "duration": 15,
    "start_time": "2023-06-20T09:03:24.204Z"
   },
   {
    "duration": 37,
    "start_time": "2023-06-20T09:03:24.221Z"
   },
   {
    "duration": 471,
    "start_time": "2023-06-20T09:03:24.261Z"
   },
   {
    "duration": 11,
    "start_time": "2023-06-20T09:03:24.735Z"
   },
   {
    "duration": 14,
    "start_time": "2023-06-20T09:03:24.749Z"
   },
   {
    "duration": 17,
    "start_time": "2023-06-20T09:03:24.766Z"
   },
   {
    "duration": 24,
    "start_time": "2023-06-20T09:03:24.785Z"
   },
   {
    "duration": 24,
    "start_time": "2023-06-20T09:03:24.812Z"
   },
   {
    "duration": 33,
    "start_time": "2023-06-20T09:03:24.839Z"
   },
   {
    "duration": 211,
    "start_time": "2023-06-20T09:03:24.875Z"
   },
   {
    "duration": 6,
    "start_time": "2023-06-20T09:03:25.089Z"
   },
   {
    "duration": 288,
    "start_time": "2023-06-20T09:03:25.098Z"
   },
   {
    "duration": 8,
    "start_time": "2023-06-20T09:03:25.391Z"
   },
   {
    "duration": 15,
    "start_time": "2023-06-20T09:03:25.401Z"
   },
   {
    "duration": 38,
    "start_time": "2023-06-20T09:03:25.419Z"
   },
   {
    "duration": 10,
    "start_time": "2023-06-20T09:03:25.460Z"
   },
   {
    "duration": 19,
    "start_time": "2023-06-20T09:03:25.471Z"
   },
   {
    "duration": 12,
    "start_time": "2023-06-20T09:03:25.492Z"
   },
   {
    "duration": 6,
    "start_time": "2023-06-20T09:03:25.506Z"
   },
   {
    "duration": 44,
    "start_time": "2023-06-20T09:03:25.513Z"
   },
   {
    "duration": 10,
    "start_time": "2023-06-20T09:03:25.560Z"
   },
   {
    "duration": 225,
    "start_time": "2023-06-20T09:03:25.572Z"
   },
   {
    "duration": 15,
    "start_time": "2023-06-20T09:03:25.800Z"
   },
   {
    "duration": 9,
    "start_time": "2023-06-20T09:03:25.817Z"
   },
   {
    "duration": 36,
    "start_time": "2023-06-20T09:03:25.829Z"
   },
   {
    "duration": 13,
    "start_time": "2023-06-20T09:03:25.867Z"
   },
   {
    "duration": 14,
    "start_time": "2023-06-20T09:03:25.882Z"
   },
   {
    "duration": 8,
    "start_time": "2023-06-20T09:03:25.899Z"
   },
   {
    "duration": 49,
    "start_time": "2023-06-20T09:03:25.909Z"
   },
   {
    "duration": 14,
    "start_time": "2023-06-20T09:03:25.961Z"
   },
   {
    "duration": 8,
    "start_time": "2023-06-20T09:07:28.233Z"
   },
   {
    "duration": 26,
    "start_time": "2023-06-20T09:07:51.389Z"
   },
   {
    "duration": 9,
    "start_time": "2023-06-20T09:09:38.894Z"
   },
   {
    "duration": 11,
    "start_time": "2023-06-20T09:10:41.888Z"
   },
   {
    "duration": 1125,
    "start_time": "2023-06-21T10:43:04.703Z"
   },
   {
    "duration": 3,
    "start_time": "2023-06-21T10:43:05.830Z"
   },
   {
    "duration": 30,
    "start_time": "2023-06-21T10:43:05.835Z"
   },
   {
    "duration": 4,
    "start_time": "2023-06-21T10:43:05.867Z"
   },
   {
    "duration": 16,
    "start_time": "2023-06-21T10:43:05.872Z"
   },
   {
    "duration": 7,
    "start_time": "2023-06-21T10:43:05.890Z"
   },
   {
    "duration": 5,
    "start_time": "2023-06-21T10:43:05.898Z"
   },
   {
    "duration": 31,
    "start_time": "2023-06-21T10:43:05.905Z"
   },
   {
    "duration": 13,
    "start_time": "2023-06-21T10:43:05.937Z"
   },
   {
    "duration": 126,
    "start_time": "2023-06-21T10:43:05.952Z"
   },
   {
    "duration": 20,
    "start_time": "2023-06-21T10:43:06.080Z"
   },
   {
    "duration": 8,
    "start_time": "2023-06-21T10:43:06.102Z"
   },
   {
    "duration": 20,
    "start_time": "2023-06-21T10:43:06.111Z"
   },
   {
    "duration": 18,
    "start_time": "2023-06-21T10:43:06.133Z"
   },
   {
    "duration": 16,
    "start_time": "2023-06-21T10:43:06.152Z"
   },
   {
    "duration": 11,
    "start_time": "2023-06-21T10:43:06.170Z"
   },
   {
    "duration": 7,
    "start_time": "2023-06-21T10:43:06.183Z"
   },
   {
    "duration": 8,
    "start_time": "2023-06-21T10:43:06.191Z"
   },
   {
    "duration": 8,
    "start_time": "2023-06-21T10:43:06.201Z"
   },
   {
    "duration": 17,
    "start_time": "2023-06-21T10:43:06.211Z"
   },
   {
    "duration": 17,
    "start_time": "2023-06-21T10:43:06.229Z"
   },
   {
    "duration": 25,
    "start_time": "2023-06-21T10:43:06.247Z"
   },
   {
    "duration": 5,
    "start_time": "2023-06-21T10:43:06.274Z"
   },
   {
    "duration": 179,
    "start_time": "2023-06-21T10:43:06.281Z"
   },
   {
    "duration": 14,
    "start_time": "2023-06-21T10:43:06.462Z"
   },
   {
    "duration": 303,
    "start_time": "2023-06-21T10:43:06.477Z"
   },
   {
    "duration": 4,
    "start_time": "2023-06-21T10:43:06.781Z"
   },
   {
    "duration": 99,
    "start_time": "2023-06-21T10:43:06.789Z"
   },
   {
    "duration": 227,
    "start_time": "2023-06-21T10:43:06.890Z"
   },
   {
    "duration": 6,
    "start_time": "2023-06-21T10:43:07.119Z"
   },
   {
    "duration": 8,
    "start_time": "2023-06-21T10:43:07.126Z"
   },
   {
    "duration": 12,
    "start_time": "2023-06-21T10:43:07.135Z"
   },
   {
    "duration": 361,
    "start_time": "2023-06-21T10:43:07.149Z"
   },
   {
    "duration": 123,
    "start_time": "2023-06-21T10:43:07.511Z"
   },
   {
    "duration": 9,
    "start_time": "2023-06-21T10:43:07.636Z"
   },
   {
    "duration": 34,
    "start_time": "2023-06-21T10:43:07.647Z"
   },
   {
    "duration": 6,
    "start_time": "2023-06-21T10:43:07.683Z"
   },
   {
    "duration": 12,
    "start_time": "2023-06-21T10:43:07.691Z"
   },
   {
    "duration": 9,
    "start_time": "2023-06-21T10:43:07.704Z"
   },
   {
    "duration": 9,
    "start_time": "2023-06-21T10:43:07.714Z"
   },
   {
    "duration": 18,
    "start_time": "2023-06-21T10:43:07.724Z"
   },
   {
    "duration": 234,
    "start_time": "2023-06-21T10:43:07.744Z"
   },
   {
    "duration": 308,
    "start_time": "2023-06-21T10:43:07.980Z"
   },
   {
    "duration": 7,
    "start_time": "2023-06-21T10:43:08.290Z"
   },
   {
    "duration": 6,
    "start_time": "2023-06-21T10:43:08.299Z"
   },
   {
    "duration": 186,
    "start_time": "2023-06-21T10:43:08.307Z"
   },
   {
    "duration": 5,
    "start_time": "2023-06-21T10:43:08.495Z"
   },
   {
    "duration": 160,
    "start_time": "2023-06-21T10:43:08.501Z"
   },
   {
    "duration": 9,
    "start_time": "2023-06-21T10:43:08.662Z"
   },
   {
    "duration": 31,
    "start_time": "2023-06-21T10:43:08.673Z"
   },
   {
    "duration": 11,
    "start_time": "2023-06-21T10:43:08.705Z"
   },
   {
    "duration": 5,
    "start_time": "2023-06-21T10:43:08.718Z"
   },
   {
    "duration": 28,
    "start_time": "2023-06-21T10:43:08.724Z"
   },
   {
    "duration": 39,
    "start_time": "2023-06-21T10:43:08.754Z"
   },
   {
    "duration": 4,
    "start_time": "2023-06-21T10:43:08.795Z"
   },
   {
    "duration": 17,
    "start_time": "2023-06-21T10:43:08.800Z"
   },
   {
    "duration": 22,
    "start_time": "2023-06-21T10:43:08.818Z"
   },
   {
    "duration": 11,
    "start_time": "2023-06-21T10:43:08.841Z"
   },
   {
    "duration": 5,
    "start_time": "2023-06-21T10:43:08.853Z"
   },
   {
    "duration": 6,
    "start_time": "2023-06-21T10:43:08.859Z"
   },
   {
    "duration": 8,
    "start_time": "2023-06-21T10:43:08.866Z"
   },
   {
    "duration": 9,
    "start_time": "2023-06-21T10:43:08.876Z"
   },
   {
    "duration": 5,
    "start_time": "2023-06-21T10:43:08.887Z"
   },
   {
    "duration": 13,
    "start_time": "2023-06-21T10:43:08.893Z"
   },
   {
    "duration": 4,
    "start_time": "2023-06-21T10:43:08.908Z"
   },
   {
    "duration": 11,
    "start_time": "2023-06-21T10:43:08.913Z"
   },
   {
    "duration": 44,
    "start_time": "2023-06-21T10:43:08.926Z"
   },
   {
    "duration": 4,
    "start_time": "2023-06-21T10:43:08.971Z"
   },
   {
    "duration": 8,
    "start_time": "2023-06-21T10:43:08.977Z"
   },
   {
    "duration": 9,
    "start_time": "2023-06-21T10:43:08.986Z"
   },
   {
    "duration": 16,
    "start_time": "2023-06-21T10:43:08.997Z"
   },
   {
    "duration": 10,
    "start_time": "2023-06-21T10:43:09.015Z"
   },
   {
    "duration": 7,
    "start_time": "2023-06-21T10:43:09.026Z"
   },
   {
    "duration": 36,
    "start_time": "2023-06-21T10:43:09.034Z"
   },
   {
    "duration": 9,
    "start_time": "2023-06-21T10:43:09.072Z"
   }
  ],
  "kernelspec": {
   "display_name": "Python 3 (ipykernel)",
   "language": "python",
   "name": "python3"
  },
  "language_info": {
   "codemirror_mode": {
    "name": "ipython",
    "version": 3
   },
   "file_extension": ".py",
   "mimetype": "text/x-python",
   "name": "python",
   "nbconvert_exporter": "python",
   "pygments_lexer": "ipython3",
   "version": "3.10.9"
  },
  "toc": {
   "base_numbering": 1,
   "nav_menu": {
    "height": "714px",
    "width": "490px"
   },
   "number_sections": false,
   "sideBar": true,
   "skip_h1_title": false,
   "title_cell": "Table of Contents",
   "title_sidebar": "Contents",
   "toc_cell": false,
   "toc_position": {
    "height": "calc(100% - 180px)",
    "left": "10px",
    "top": "150px",
    "width": "165px"
   },
   "toc_section_display": true,
   "toc_window_display": true
  }
 },
 "nbformat": 4,
 "nbformat_minor": 5
}
